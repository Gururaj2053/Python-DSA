{
 "cells": [
  {
   "cell_type": "markdown",
   "id": "ce3206bf",
   "metadata": {},
   "source": [
    "# Solution 1"
   ]
  },
  {
   "cell_type": "code",
   "execution_count": 6,
   "id": "934363f1",
   "metadata": {},
   "outputs": [],
   "source": [
    "class TreeNode:\n",
    "    def __init__(self, val=0, left=None, right=None):\n",
    "        self.val = val\n",
    "        self.left = left\n",
    "        self.right = right\n",
    "class Solution:\n",
    "    def isSameTree(self, p:[TreeNode], q:[TreeNode]) -> bool:\n",
    "        if not p and not q:\n",
    "            return True\n",
    "        if not p or not q:\n",
    "            return False\n",
    "        return p.val == q.val and self.isSameTree(p.left, q.left) and self.isSameTree(p.right, q.right)"
   ]
  },
  {
   "cell_type": "code",
   "execution_count": 7,
   "id": "8b5a2d66",
   "metadata": {},
   "outputs": [],
   "source": [
    "tree1 = TreeNode(1,TreeNode(6),TreeNode(2))"
   ]
  },
  {
   "cell_type": "code",
   "execution_count": 8,
   "id": "5d13a6c6",
   "metadata": {},
   "outputs": [],
   "source": [
    "tree2 = TreeNode(1,TreeNode(6),TreeNode(2))"
   ]
  },
  {
   "cell_type": "code",
   "execution_count": 9,
   "id": "ec193a39",
   "metadata": {},
   "outputs": [],
   "source": [
    "isSame = Solution()"
   ]
  },
  {
   "cell_type": "code",
   "execution_count": 10,
   "id": "0f2187b7",
   "metadata": {},
   "outputs": [
    {
     "data": {
      "text/plain": [
       "False"
      ]
     },
     "execution_count": 10,
     "metadata": {},
     "output_type": "execute_result"
    }
   ],
   "source": [
    "isSame.isSameTree(tree1,tree2)"
   ]
  },
  {
   "cell_type": "markdown",
   "id": "ef405b95",
   "metadata": {},
   "source": [
    "# Solution 2"
   ]
  },
  {
   "cell_type": "code",
   "execution_count": 15,
   "id": "8cd119be",
   "metadata": {},
   "outputs": [],
   "source": [
    "class TreeNode:\n",
    "    def __init__(self, val=0, left=None, right=None):\n",
    "        self.val = val\n",
    "        self.left = left\n",
    "        self.right = right\n",
    "class Solution:\n",
    "    def _init__(self):\n",
    "        self.result1 = None\n",
    "        self.result2 = None\n",
    "    def isSameTree(self, p:[TreeNode], q:[TreeNode]) -> bool:\n",
    "        if not p and not q:\n",
    "            return True\n",
    "        if not p or not q:\n",
    "            return False\n",
    "        if p.val!=q.val:\n",
    "            return False\n",
    "        left_same = self.isSameTree(p.left,q.left)\n",
    "        right_same= self.isSameTree(p.right,q.right)\n",
    "        return left_same and right_same"
   ]
  },
  {
   "cell_type": "code",
   "execution_count": 20,
   "id": "ce13284f",
   "metadata": {},
   "outputs": [],
   "source": [
    "tree1 = TreeNode(1,TreeNode(3),TreeNode(2))"
   ]
  },
  {
   "cell_type": "code",
   "execution_count": 21,
   "id": "ed235851",
   "metadata": {},
   "outputs": [],
   "source": [
    "tree2 = TreeNode(1,TreeNode(3),TreeNode(2))"
   ]
  },
  {
   "cell_type": "code",
   "execution_count": 22,
   "id": "79afb0e5",
   "metadata": {},
   "outputs": [],
   "source": [
    "isSame = Solution()"
   ]
  },
  {
   "cell_type": "code",
   "execution_count": 23,
   "id": "25fc8781",
   "metadata": {},
   "outputs": [
    {
     "data": {
      "text/plain": [
       "True"
      ]
     },
     "execution_count": 23,
     "metadata": {},
     "output_type": "execute_result"
    }
   ],
   "source": [
    "isSame.isSameTree(tree1,tree2)"
   ]
  },
  {
   "cell_type": "code",
   "execution_count": 24,
   "id": "48a3a676",
   "metadata": {},
   "outputs": [],
   "source": [
    "tree = TreeNode(2,TreeNode(4,TreeNode(8),TreeNode(10)),TreeNode(6,TreeNode(12,TreeNode(16),TreeNode(18)),TreeNode(14)))"
   ]
  },
  {
   "cell_type": "code",
   "execution_count": 25,
   "id": "c3dd091b",
   "metadata": {},
   "outputs": [],
   "source": [
    "def print_tree(root,level=0,prefix = 'Root'):\n",
    "    if root==None:\n",
    "        return\n",
    "    print(' '*level*3+prefix+str(root.val))\n",
    "    if root.left:\n",
    "        print_tree(root.left,level+1, prefix = '--L:')\n",
    "    if root.right:\n",
    "        print_tree(root.right,level+1, prefix = '--R:')"
   ]
  },
  {
   "cell_type": "code",
   "execution_count": 26,
   "id": "16095780",
   "metadata": {},
   "outputs": [
    {
     "name": "stdout",
     "output_type": "stream",
     "text": [
      "Root2\n",
      "   --L:4\n",
      "      --L:8\n",
      "      --R:10\n",
      "   --R:6\n",
      "      --L:12\n",
      "         --L:16\n",
      "         --R:18\n",
      "      --R:14\n"
     ]
    }
   ],
   "source": [
    "print_tree(tree)"
   ]
  },
  {
   "cell_type": "code",
   "execution_count": 27,
   "id": "1ccaa415",
   "metadata": {},
   "outputs": [],
   "source": [
    "stack = []"
   ]
  },
  {
   "cell_type": "code",
   "execution_count": 161,
   "id": "feee611a",
   "metadata": {},
   "outputs": [],
   "source": [
    "class TreeNode:\n",
    "    def __init__(self, val=0, left=None, right=None):\n",
    "        self.val = val\n",
    "        self.left = left\n",
    "        self.right = right"
   ]
  },
  {
   "cell_type": "code",
   "execution_count": 162,
   "id": "36118c8e",
   "metadata": {},
   "outputs": [],
   "source": [
    "def recursion(root):\n",
    "    if root is None:\n",
    "        return None\n",
    "    res1 = recursion(root.left)\n",
    "    res2 = recursion(root.right)\n",
    "    print(res1,res2)\n",
    "    if res1 and res2 != None:\n",
    "        stack.append(max(res1,res2))\n",
    "    return root.val"
   ]
  },
  {
   "cell_type": "code",
   "execution_count": 163,
   "id": "e6da3beb",
   "metadata": {},
   "outputs": [],
   "source": [
    "tree = TreeNode(2,TreeNode(4,TreeNode(8),TreeNode(10)),TreeNode(6,TreeNode(12,TreeNode(16),TreeNode(18)),TreeNode(14)))"
   ]
  },
  {
   "cell_type": "code",
   "execution_count": 164,
   "id": "57282a83",
   "metadata": {},
   "outputs": [
    {
     "name": "stdout",
     "output_type": "stream",
     "text": [
      "None None\n",
      "None None\n",
      "8 10\n",
      "None None\n",
      "None None\n",
      "16 18\n",
      "None None\n",
      "12 14\n",
      "4 6\n"
     ]
    },
    {
     "data": {
      "text/plain": [
       "2"
      ]
     },
     "execution_count": 164,
     "metadata": {},
     "output_type": "execute_result"
    }
   ],
   "source": [
    "recursion(tree)"
   ]
  },
  {
   "cell_type": "code",
   "execution_count": 165,
   "id": "4dd3d9ba",
   "metadata": {},
   "outputs": [
    {
     "data": {
      "text/plain": [
       "[10, 18, 14, 6]"
      ]
     },
     "execution_count": 165,
     "metadata": {},
     "output_type": "execute_result"
    }
   ],
   "source": [
    "stack"
   ]
  },
  {
   "cell_type": "code",
   "execution_count": null,
   "id": "5aa6dd26",
   "metadata": {},
   "outputs": [],
   "source": []
  },
  {
   "cell_type": "code",
   "execution_count": null,
   "id": "7a70d951",
   "metadata": {},
   "outputs": [],
   "source": []
  }
 ],
 "metadata": {
  "kernelspec": {
   "display_name": "Python 3 (ipykernel)",
   "language": "python",
   "name": "python3"
  },
  "language_info": {
   "codemirror_mode": {
    "name": "ipython",
    "version": 3
   },
   "file_extension": ".py",
   "mimetype": "text/x-python",
   "name": "python",
   "nbconvert_exporter": "python",
   "pygments_lexer": "ipython3",
   "version": "3.9.7"
  }
 },
 "nbformat": 4,
 "nbformat_minor": 5
}
