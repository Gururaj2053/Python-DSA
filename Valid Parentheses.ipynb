{
 "cells": [
  {
   "cell_type": "markdown",
   "id": "02c3ce8e",
   "metadata": {},
   "source": [
    "## Solution 1"
   ]
  },
  {
   "cell_type": "code",
   "execution_count": 7,
   "id": "f7e2c458",
   "metadata": {},
   "outputs": [],
   "source": [
    "a = '(['"
   ]
  },
  {
   "cell_type": "code",
   "execution_count": 9,
   "id": "2d1883e6",
   "metadata": {},
   "outputs": [
    {
     "name": "stdout",
     "output_type": "stream",
     "text": [
      "True\n",
      "True\n"
     ]
    }
   ],
   "source": [
    "for i in a:\n",
    "    if i in '{[(':\n",
    "        print('True')\n",
    "    else: \n",
    "        print('False')"
   ]
  },
  {
   "cell_type": "code",
   "execution_count": 10,
   "id": "d31e308e",
   "metadata": {},
   "outputs": [],
   "source": [
    "s = \"()[]{}\""
   ]
  },
  {
   "cell_type": "code",
   "execution_count": 18,
   "id": "89e28251",
   "metadata": {},
   "outputs": [],
   "source": [
    "s = \"(]\""
   ]
  },
  {
   "cell_type": "code",
   "execution_count": 26,
   "id": "6aca27ee",
   "metadata": {},
   "outputs": [],
   "source": [
    "s = \"()\""
   ]
  },
  {
   "cell_type": "code",
   "execution_count": 20,
   "id": "657fa9fc",
   "metadata": {},
   "outputs": [],
   "source": [
    "def isvalid(s):\n",
    "    stack = []\n",
    "    for char in s:\n",
    "        if char in \"([{\":\n",
    "            stack.append(char)\n",
    "        else:\n",
    "            if len(stack)==0:\n",
    "                return False\n",
    "            elif char==')' and stack[-1] =='('or char==']'and stack[-1]=='[' or  char=='}'and stack[-1]=='{':\n",
    "                stack.pop(-1)\n",
    "            else: \n",
    "                return False\n",
    "    return len(stack)==0"
   ]
  },
  {
   "cell_type": "code",
   "execution_count": 21,
   "id": "de9066f0",
   "metadata": {},
   "outputs": [
    {
     "data": {
      "text/plain": [
       "True"
      ]
     },
     "execution_count": 21,
     "metadata": {},
     "output_type": "execute_result"
    }
   ],
   "source": [
    "isvalid(s)"
   ]
  },
  {
   "cell_type": "markdown",
   "id": "8bff7589",
   "metadata": {},
   "source": [
    "## Solution 2"
   ]
  },
  {
   "cell_type": "code",
   "execution_count": 29,
   "id": "95956d02",
   "metadata": {},
   "outputs": [],
   "source": [
    "s = \"()\""
   ]
  },
  {
   "cell_type": "code",
   "execution_count": 34,
   "id": "afe88bd6",
   "metadata": {},
   "outputs": [],
   "source": [
    "def isvalid(s):\n",
    "    stack = []\n",
    "    mappings = {'}':'{',')':'(',']':'['}\n",
    "    for char in s:\n",
    "        if char in \"([{\":\n",
    "            stack.append(char)\n",
    "        else:\n",
    "            if len(stack)==0:\n",
    "                return False\n",
    "            elif mappings[char] == stack[-1]:\n",
    "                stack.pop(-1)\n",
    "            else: \n",
    "                return False\n",
    "    return len(stack)==0"
   ]
  },
  {
   "cell_type": "code",
   "execution_count": 35,
   "id": "9dbee740",
   "metadata": {},
   "outputs": [
    {
     "data": {
      "text/plain": [
       "True"
      ]
     },
     "execution_count": 35,
     "metadata": {},
     "output_type": "execute_result"
    }
   ],
   "source": [
    "isvalid(s)"
   ]
  },
  {
   "cell_type": "markdown",
   "id": "ea83c260",
   "metadata": {},
   "source": [
    "## Solution 3"
   ]
  },
  {
   "cell_type": "code",
   "execution_count": 37,
   "id": "cfe99ca1",
   "metadata": {},
   "outputs": [],
   "source": [
    "s = \"()\""
   ]
  },
  {
   "cell_type": "code",
   "execution_count": 40,
   "id": "27201b31",
   "metadata": {},
   "outputs": [],
   "source": [
    "def isvalid(s):\n",
    "    stack = []\n",
    "    mappings = {'}':'{',')':'(',']':'['}\n",
    "    for char in s:\n",
    "        if char in \"([{\":\n",
    "            stack.append(char)\n",
    "        else:\n",
    "            if not stack or mappings[char] != stack[-1]:\n",
    "                return False\n",
    "            stack.pop()\n",
    "    return len(stack)==0"
   ]
  },
  {
   "cell_type": "code",
   "execution_count": 41,
   "id": "d0823c92",
   "metadata": {},
   "outputs": [
    {
     "data": {
      "text/plain": [
       "True"
      ]
     },
     "execution_count": 41,
     "metadata": {},
     "output_type": "execute_result"
    }
   ],
   "source": [
    "isvalid(s)"
   ]
  },
  {
   "cell_type": "code",
   "execution_count": null,
   "id": "44fc783b",
   "metadata": {},
   "outputs": [],
   "source": []
  }
 ],
 "metadata": {
  "kernelspec": {
   "display_name": "Python 3 (ipykernel)",
   "language": "python",
   "name": "python3"
  },
  "language_info": {
   "codemirror_mode": {
    "name": "ipython",
    "version": 3
   },
   "file_extension": ".py",
   "mimetype": "text/x-python",
   "name": "python",
   "nbconvert_exporter": "python",
   "pygments_lexer": "ipython3",
   "version": "3.9.7"
  }
 },
 "nbformat": 4,
 "nbformat_minor": 5
}
