{
 "cells": [
  {
   "cell_type": "code",
   "execution_count": 14,
   "id": "3c236904",
   "metadata": {},
   "outputs": [],
   "source": [
    "class MaxHeap:\n",
    "    arr = []\n",
    "    maxsize = 0\n",
    "    heapsise = 0\n",
    "    def __init__(self, maxsize):\n",
    "        self.maxsize = maxsize\n",
    "        self.arr = [None] * maxsize\n",
    "        self.heapsise = 0\n",
    "        \n",
    "    def MaxHeapify(self, i):\n",
    "        l = self.lchild(i)\n",
    "        r = self.rchild(i)\n",
    "        largest = i\n",
    "        if l < self.heapsise and self.arr[l] > self.arr[i]:\n",
    "            largest = l\n",
    "        if r < self.heapsise and self.arr[r] > self.arr[largest]:\n",
    "            largest = r\n",
    "        if largest != i:\n",
    "            temp = self.arr[i]\n",
    "            self.arr[i] = self.arr[largest]\n",
    "            self.arr[largest] = temp\n",
    "            self.MaxHeapify(largest)\n",
    "    \n",
    "    def lchild(self,i):\n",
    "        return (2*i+1)\n",
    "    \n",
    "    def rchild(self,i):\n",
    "        return (2*i+2)\n",
    "    \n",
    "    def parent(self,i):\n",
    "        return (i-1)//2\n",
    "    \n",
    "    def build_max_heap(self):\n",
    "        n = (self.heapsise//2)-1\n",
    "        for i in range(n,-1,-1):\n",
    "            self.MaxHeapify(i)\n",
    "        return A.arr\n",
    "    \n",
    "    def print_tree(self, i=0, level=0,prefix = 'Root:'):\n",
    "        if i < self.heapsise:\n",
    "            print(\"  \" * level*2+ prefix + str(self.arr[i]))\n",
    "            self.print_tree(self.lchild(i), level + 1,'L--')\n",
    "            self.print_tree(self.rchild(i), level + 1,'R--')\n",
    "    \n",
    "    def insertKey(self, x):\n",
    "        if self.heapsise == self.maxsize:\n",
    "            print(\"\\nOverflow: Could not insertKey\\n\")\n",
    "            return\n",
    "        else:\n",
    "            i = self.heapsise\n",
    "            self.arr[i] = x\n",
    "            self.heapsise += 1\n",
    "            \n",
    "            while i>0:\n",
    "                p = self.parent(i)\n",
    "                if self.arr[p] < self.arr[i]:\n",
    "                    self.arr[p],self.arr[i] = self.arr[i],self.arr[p]\n",
    "                    i = p\n",
    "                else:\n",
    "                    break\n",
    "            return self.arr\n",
    "            \n",
    "    def RemoveMax(self):\n",
    "        if self.heapsise <0:\n",
    "            return\n",
    "        if self.heapsise==1:\n",
    "            root = self.arr[0]\n",
    "            self.heapsise -=1\n",
    "            return root\n",
    "        root = self.arr[0]\n",
    "        self.arr[0] = self.arr[self.heapsise-1]\n",
    "        self.heapsise -=1\n",
    "        self.MaxHeapify(0)\n",
    "        return print(f'Root Node:removed')"
   ]
  },
  {
   "cell_type": "code",
   "execution_count": 15,
   "id": "091d2cc0",
   "metadata": {},
   "outputs": [
    {
     "name": "stdout",
     "output_type": "stream",
     "text": [
      "Root:875\n",
      "    L--455\n",
      "        L--10\n",
      "            L--5\n",
      "            R--4\n",
      "        R--1\n",
      "    R--550\n",
      "        L--100\n",
      "        R--3\n"
     ]
    }
   ],
   "source": [
    "input_array =[4,10,3,5,1,100,550,875,455]\n",
    "A = MaxHeap(len(input_array))\n",
    "A.arr = input_array\n",
    "A.heapsise = len(input_array)\n",
    "A.build_max_heap()\n",
    "A.print_tree()"
   ]
  },
  {
   "cell_type": "code",
   "execution_count": 16,
   "id": "847796f0",
   "metadata": {},
   "outputs": [
    {
     "name": "stdout",
     "output_type": "stream",
     "text": [
      "Root Node:removed\n",
      "Root:550\n",
      "    L--455\n",
      "        L--10\n",
      "            L--5\n",
      "        R--1\n",
      "    R--100\n",
      "        L--4\n",
      "        R--3\n"
     ]
    }
   ],
   "source": [
    "A.RemoveMax()\n",
    "A.print_tree()"
   ]
  },
  {
   "cell_type": "code",
   "execution_count": 17,
   "id": "42b95933",
   "metadata": {},
   "outputs": [
    {
     "data": {
      "text/plain": [
       "[550, 455, 100, 99, 1, 4, 3, 5, 10]"
      ]
     },
     "execution_count": 17,
     "metadata": {},
     "output_type": "execute_result"
    }
   ],
   "source": [
    "A.insertKey(99)"
   ]
  },
  {
   "cell_type": "code",
   "execution_count": 18,
   "id": "6bbd2f40",
   "metadata": {},
   "outputs": [
    {
     "name": "stdout",
     "output_type": "stream",
     "text": [
      "Root:550\n",
      "    L--455\n",
      "        L--99\n",
      "            L--5\n",
      "            R--10\n",
      "        R--1\n",
      "    R--100\n",
      "        L--4\n",
      "        R--3\n"
     ]
    }
   ],
   "source": [
    "A.print_tree()"
   ]
  },
  {
   "cell_type": "code",
   "execution_count": null,
   "id": "0970aee2",
   "metadata": {},
   "outputs": [],
   "source": []
  },
  {
   "cell_type": "code",
   "execution_count": null,
   "id": "6592fe84",
   "metadata": {},
   "outputs": [],
   "source": []
  }
 ],
 "metadata": {
  "kernelspec": {
   "display_name": "Python 3 (ipykernel)",
   "language": "python",
   "name": "python3"
  },
  "language_info": {
   "codemirror_mode": {
    "name": "ipython",
    "version": 3
   },
   "file_extension": ".py",
   "mimetype": "text/x-python",
   "name": "python",
   "nbconvert_exporter": "python",
   "pygments_lexer": "ipython3",
   "version": "3.9.7"
  }
 },
 "nbformat": 4,
 "nbformat_minor": 5
}
