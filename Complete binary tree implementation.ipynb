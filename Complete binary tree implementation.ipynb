{
 "cells": [
  {
   "cell_type": "code",
   "execution_count": 5,
   "id": "52a78429",
   "metadata": {},
   "outputs": [],
   "source": [
    "class TreeNode:\n",
    "    def __init__(self,data):\n",
    "        self.data =data\n",
    "        self.left = None\n",
    "        self.right = None\n",
    "    \n",
    "def complete_binary_tree(arr):\n",
    "    i=0\n",
    "    root = TreeNode(arr[i])\n",
    "    i+=1\n",
    "    queue = [root]\n",
    "    \n",
    "    while i<len(arr):\n",
    "        current = queue.pop(0)\n",
    "        if current.left is None:\n",
    "            current.left = TreeNode(arr[i])\n",
    "            i+=1\n",
    "            queue.append(current.left)\n",
    "        if current.right is None:\n",
    "            current.right= TreeNode(arr[i])\n",
    "            i+=1\n",
    "            queue.append(current.right)\n",
    "            \n",
    "    return root"
   ]
  },
  {
   "cell_type": "code",
   "execution_count": 13,
   "id": "65cbdf4e",
   "metadata": {},
   "outputs": [],
   "source": [
    "def print_tree(root,level=0,prefix='Root:'):\n",
    "    print(' '*level*4 + prefix +str(root.data))\n",
    "    if root.left:\n",
    "        print_tree(root.left,level+1,'--L:')\n",
    "    if root.right:\n",
    "        print_tree(root.right,level+1,'--R:')"
   ]
  },
  {
   "cell_type": "code",
   "execution_count": 14,
   "id": "721ed1ab",
   "metadata": {},
   "outputs": [],
   "source": [
    "arr = [7,14,15,16,17,18,19,20,21]\n",
    "build_tree = complete_binary_tree(arr)"
   ]
  },
  {
   "cell_type": "code",
   "execution_count": 16,
   "id": "16dd2073",
   "metadata": {},
   "outputs": [
    {
     "name": "stdout",
     "output_type": "stream",
     "text": [
      "Root:7\n",
      "    --L:14\n",
      "        --L:16\n",
      "            --L:20\n",
      "            --R:21\n",
      "        --R:17\n",
      "    --R:15\n",
      "        --L:18\n",
      "        --R:19\n"
     ]
    }
   ],
   "source": [
    "print_tree(build_tree)"
   ]
  },
  {
   "cell_type": "code",
   "execution_count": 22,
   "id": "e5fdf500",
   "metadata": {},
   "outputs": [],
   "source": [
    "class TreeNode:\n",
    "    def __init__(self,data):\n",
    "        self.data =data\n",
    "        self.left = None\n",
    "        self.right = None\n",
    "    \n",
    "    def complete_binary_tree(self,arr):\n",
    "        i=0\n",
    "        root = TreeNode(arr[i])\n",
    "        i+=1\n",
    "        queue = [root]\n",
    "\n",
    "        while i<len(arr):\n",
    "            current = queue.pop(0)\n",
    "            if current.left is None:\n",
    "                current.left = TreeNode(arr[i])\n",
    "                i+=1\n",
    "                queue.append(current.left)\n",
    "            if current.right is None:\n",
    "                current.right= TreeNode(arr[i])\n",
    "                i+=1\n",
    "                queue.append(current.right)\n",
    "\n",
    "        return root\n",
    "    \n",
    "    def print_tree(root,level=0,prefix='Root:'):\n",
    "        print(' '*level*4 + prefix +str(root.data))\n",
    "        if root.left:\n",
    "            print_tree(root.left,level+1,'--L:')\n",
    "        if root.right:\n",
    "            print_tree(root.right,level+1,'--R:')"
   ]
  },
  {
   "cell_type": "code",
   "execution_count": 23,
   "id": "96c75fdd",
   "metadata": {},
   "outputs": [],
   "source": [
    "def print_tree(root,level=0,prefix='Root:'):\n",
    "    print(' '*level*4 + prefix +str(root.data))\n",
    "    if root.left:\n",
    "        print_tree(root.left,level+1,'--L:')\n",
    "    if root.right:\n",
    "        print_tree(root.right,level+1,'--R:')"
   ]
  },
  {
   "cell_type": "code",
   "execution_count": 24,
   "id": "69c4daca",
   "metadata": {},
   "outputs": [],
   "source": [
    "arr = [7,14,15,16,17,18,19,20,21]\n",
    "build_tree = complete_binary_tree(arr)"
   ]
  },
  {
   "cell_type": "code",
   "execution_count": 25,
   "id": "e78406cb",
   "metadata": {},
   "outputs": [
    {
     "name": "stdout",
     "output_type": "stream",
     "text": [
      "Root:7\n",
      "    --L:14\n",
      "        --L:16\n",
      "            --L:20\n",
      "            --R:21\n",
      "        --R:17\n",
      "    --R:15\n",
      "        --L:18\n",
      "        --R:19\n"
     ]
    }
   ],
   "source": [
    "build_tree.print_tree()"
   ]
  }
 ],
 "metadata": {
  "kernelspec": {
   "display_name": "Python 3 (ipykernel)",
   "language": "python",
   "name": "python3"
  },
  "language_info": {
   "codemirror_mode": {
    "name": "ipython",
    "version": 3
   },
   "file_extension": ".py",
   "mimetype": "text/x-python",
   "name": "python",
   "nbconvert_exporter": "python",
   "pygments_lexer": "ipython3",
   "version": "3.9.7"
  }
 },
 "nbformat": 4,
 "nbformat_minor": 5
}
