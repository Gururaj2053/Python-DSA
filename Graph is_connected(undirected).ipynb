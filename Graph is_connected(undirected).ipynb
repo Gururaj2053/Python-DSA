{
 "cells": [
  {
   "cell_type": "markdown",
   "id": "ae3f949d",
   "metadata": {},
   "source": [
    "## Solution 1 (DFS)"
   ]
  },
  {
   "cell_type": "code",
   "execution_count": 216,
   "id": "d4465af4",
   "metadata": {},
   "outputs": [],
   "source": [
    "class Graph:\n",
    "    def __init__(self):\n",
    "        self.graph = {}\n",
    "        \n",
    "    def add_edge(self,edges):\n",
    "        for u,v in edges:\n",
    "            if u not in self.graph:\n",
    "                self.graph[u] = []\n",
    "            if v not in self.graph:\n",
    "                self.graph[v] = []\n",
    "            self.graph[u].append(v)\n",
    "            self.graph[v].append(u)\n",
    "\n",
    "    def is_connected(self):\n",
    "        visited = set()\n",
    "        self.dfs(list(self.graph.keys())[0], visited)\n",
    "        return len(visited) == len(self.graph)\n",
    "\n",
    "    def dfs(self, vertex, visited):\n",
    "        visited.add(vertex)\n",
    "        for neighbor in self.graph[vertex]:\n",
    "            if neighbor not in visited:\n",
    "                self.dfs(neighbor, visited)"
   ]
  },
  {
   "cell_type": "code",
   "execution_count": 217,
   "id": "c11d5431",
   "metadata": {},
   "outputs": [
    {
     "name": "stdout",
     "output_type": "stream",
     "text": [
      "The graph is not connected\n"
     ]
    }
   ],
   "source": [
    "g = Graph()\n",
    "g.add_edge([(\"Mumbai\",\"Paris\"),\n",
    "            (\"Mumbai\",\"Dubai\"),\n",
    "            (\"Paris\",\"Dubai\"),\n",
    "            (\"Paris\",\"New York\"),\n",
    "            (\"Dubai\",\"New York\"),\n",
    "            (\"New York\",\"Toronto\"),\n",
    "            (\"Banglore\",\"Mysore\")\n",
    "            ])\n",
    "if g.is_connected():\n",
    "    print(\"The graph is connected\")\n",
    "else:\n",
    "    print(\"The graph is not connected\")\n"
   ]
  },
  {
   "cell_type": "code",
   "execution_count": 218,
   "id": "07585ce7",
   "metadata": {},
   "outputs": [
    {
     "name": "stdout",
     "output_type": "stream",
     "text": [
      "{'Mumbai': ['Paris', 'Dubai'], 'Paris': ['Mumbai', 'Dubai', 'New York'], 'Dubai': ['Mumbai', 'Paris', 'New York'], 'New York': ['Paris', 'Dubai', 'Toronto'], 'Toronto': ['New York'], 'Banglore': ['Mysore'], 'Mysore': ['Banglore']}\n"
     ]
    }
   ],
   "source": [
    "print(g.graph)\n"
   ]
  },
  {
   "cell_type": "markdown",
   "id": "0c7fd83e",
   "metadata": {},
   "source": [
    "## Soution 2(BFS)"
   ]
  },
  {
   "cell_type": "code",
   "execution_count": 226,
   "id": "6917b2e3",
   "metadata": {},
   "outputs": [],
   "source": [
    "class Graph1:\n",
    "    def __init__(self):\n",
    "        self.dict = {}\n",
    "    def add_edge(self,edges):\n",
    "        for u,v in edges:\n",
    "            if u not in self.dict:\n",
    "                self.dict[u] = []\n",
    "            if v not in self.dict:\n",
    "                self.dict[v] = []\n",
    "            self.dict[u].append(v)\n",
    "            self.dict[v].append(u)\n",
    "    def is_connected(self):\n",
    "        visited = set()\n",
    "        queue = []\n",
    "        \n",
    "        queue.append(list(self.dict.keys())[0])\n",
    "  \n",
    "        while queue:\n",
    "            vertex = queue.pop(0)   \n",
    "            visited.add(vertex)\n",
    "            for neighbour in self.dict[vertex]:\n",
    "                if neighbour not in visited:\n",
    "                  \n",
    "                    queue.append(neighbour)\n",
    "        return len(visited) == len(self.dict)\n",
    "       "
   ]
  },
  {
   "cell_type": "code",
   "execution_count": 229,
   "id": "c7ac19a6",
   "metadata": {},
   "outputs": [
    {
     "name": "stdout",
     "output_type": "stream",
     "text": [
      "The graph is connected\n"
     ]
    }
   ],
   "source": [
    "g = Graph1()\n",
    "g.add_edge([(\"Mumbai\",\"Paris\"),\n",
    "            (\"Mumbai\",\"Dubai\"),\n",
    "            (\"Paris\",\"Dubai\"),\n",
    "            (\"Paris\",\"New York\"),\n",
    "            (\"Dubai\",\"New York\"),\n",
    "            (\"New York\",\"Toronto\"),\n",
    "            \n",
    "            ])\n",
    "if g.is_connected():\n",
    "    print(\"The graph is connected\")\n",
    "else:\n",
    "    print(\"The graph is not connected\")\n"
   ]
  },
  {
   "cell_type": "code",
   "execution_count": null,
   "id": "bd1dd777",
   "metadata": {},
   "outputs": [],
   "source": []
  },
  {
   "cell_type": "code",
   "execution_count": null,
   "id": "bee7e53f",
   "metadata": {},
   "outputs": [],
   "source": []
  }
 ],
 "metadata": {
  "kernelspec": {
   "display_name": "Python 3 (ipykernel)",
   "language": "python",
   "name": "python3"
  },
  "language_info": {
   "codemirror_mode": {
    "name": "ipython",
    "version": 3
   },
   "file_extension": ".py",
   "mimetype": "text/x-python",
   "name": "python",
   "nbconvert_exporter": "python",
   "pygments_lexer": "ipython3",
   "version": "3.9.7"
  }
 },
 "nbformat": 4,
 "nbformat_minor": 5
}
