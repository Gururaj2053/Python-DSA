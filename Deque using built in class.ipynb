{
 "cells": [
  {
   "cell_type": "code",
   "execution_count": 4,
   "id": "2bf48e14",
   "metadata": {},
   "outputs": [],
   "source": [
    "from collections import deque\n",
    "q = deque()"
   ]
  },
  {
   "cell_type": "code",
   "execution_count": 5,
   "id": "7e183c38",
   "metadata": {},
   "outputs": [
    {
     "data": {
      "text/plain": [
       "deque([10, 8, 5])"
      ]
     },
     "execution_count": 5,
     "metadata": {},
     "output_type": "execute_result"
    }
   ],
   "source": [
    "q.appendleft(5)\n",
    "q.appendleft(8)\n",
    "q.appendleft(10)\n",
    "q"
   ]
  },
  {
   "cell_type": "code",
   "execution_count": 6,
   "id": "97028eb3",
   "metadata": {},
   "outputs": [
    {
     "data": {
      "text/plain": [
       "5"
      ]
     },
     "execution_count": 6,
     "metadata": {},
     "output_type": "execute_result"
    }
   ],
   "source": [
    "q.pop()"
   ]
  },
  {
   "cell_type": "code",
   "execution_count": 7,
   "id": "93ffa053",
   "metadata": {},
   "outputs": [
    {
     "data": {
      "text/plain": [
       "8"
      ]
     },
     "execution_count": 7,
     "metadata": {},
     "output_type": "execute_result"
    }
   ],
   "source": [
    "q.pop()"
   ]
  },
  {
   "cell_type": "code",
   "execution_count": 8,
   "id": "f3dc9199",
   "metadata": {},
   "outputs": [
    {
     "data": {
      "text/plain": [
       "10"
      ]
     },
     "execution_count": 8,
     "metadata": {},
     "output_type": "execute_result"
    }
   ],
   "source": [
    "q.pop()"
   ]
  },
  {
   "cell_type": "code",
   "execution_count": 9,
   "id": "11d36086",
   "metadata": {},
   "outputs": [
    {
     "ename": "IndexError",
     "evalue": "pop from an empty deque",
     "output_type": "error",
     "traceback": [
      "\u001b[1;31m---------------------------------------------------------------------------\u001b[0m",
      "\u001b[1;31mIndexError\u001b[0m                                Traceback (most recent call last)",
      "\u001b[1;32m~\\AppData\\Local\\Temp/ipykernel_12572/2543957430.py\u001b[0m in \u001b[0;36m<module>\u001b[1;34m\u001b[0m\n\u001b[1;32m----> 1\u001b[1;33m \u001b[0mq\u001b[0m\u001b[1;33m.\u001b[0m\u001b[0mpop\u001b[0m\u001b[1;33m(\u001b[0m\u001b[1;33m)\u001b[0m\u001b[1;33m\u001b[0m\u001b[1;33m\u001b[0m\u001b[0m\n\u001b[0m",
      "\u001b[1;31mIndexError\u001b[0m: pop from an empty deque"
     ]
    }
   ],
   "source": [
    "q.pop()"
   ]
  },
  {
   "cell_type": "code",
   "execution_count": 10,
   "id": "e463f66e",
   "metadata": {},
   "outputs": [],
   "source": [
    "class Queue:\n",
    "    \n",
    "    def __init__(self):\n",
    "        self.buffer = deque()\n",
    "    \n",
    "    def enqueue(self, val):\n",
    "        self.buffer.appendleft(val)\n",
    "        \n",
    "    def dequeue(self):\n",
    "        return self.buffer.pop()\n",
    "    \n",
    "    def is_empty(self):\n",
    "        return len(self.buffer)==0\n",
    "    \n",
    "    def size(self):\n",
    "        return len(self.buffer)"
   ]
  },
  {
   "cell_type": "code",
   "execution_count": 11,
   "id": "c56f119a",
   "metadata": {},
   "outputs": [],
   "source": [
    "Q = Queue()"
   ]
  },
  {
   "cell_type": "code",
   "execution_count": 12,
   "id": "bc38837c",
   "metadata": {},
   "outputs": [],
   "source": [
    "Q.enqueue({\n",
    "    'company': 'Wall Mart',\n",
    "    'timestamp': '15 apr, 11.01 AM',\n",
    "    'price': 131.10\n",
    "})\n",
    "Q.enqueue({\n",
    "    'company': 'Wall Mart',\n",
    "    'timestamp': '15 apr, 11.02 AM',\n",
    "    'price': 132\n",
    "})\n",
    "Q.enqueue({\n",
    "    'company': 'Wall Mart',\n",
    "    'timestamp': '15 apr, 11.03 AM',\n",
    "    'price': 135\n",
    "})"
   ]
  },
  {
   "cell_type": "code",
   "execution_count": 13,
   "id": "e3bc953c",
   "metadata": {},
   "outputs": [
    {
     "data": {
      "text/plain": [
       "3"
      ]
     },
     "execution_count": 13,
     "metadata": {},
     "output_type": "execute_result"
    }
   ],
   "source": [
    "Q.size()"
   ]
  },
  {
   "cell_type": "code",
   "execution_count": 14,
   "id": "e6c43397",
   "metadata": {},
   "outputs": [
    {
     "data": {
      "text/plain": [
       "{'company': 'Wall Mart', 'timestamp': '15 apr, 11.01 AM', 'price': 131.1}"
      ]
     },
     "execution_count": 14,
     "metadata": {},
     "output_type": "execute_result"
    }
   ],
   "source": [
    "Q.dequeue()"
   ]
  },
  {
   "cell_type": "code",
   "execution_count": null,
   "id": "94e0b492",
   "metadata": {},
   "outputs": [],
   "source": []
  }
 ],
 "metadata": {
  "kernelspec": {
   "display_name": "Python 3 (ipykernel)",
   "language": "python",
   "name": "python3"
  },
  "language_info": {
   "codemirror_mode": {
    "name": "ipython",
    "version": 3
   },
   "file_extension": ".py",
   "mimetype": "text/x-python",
   "name": "python",
   "nbconvert_exporter": "python",
   "pygments_lexer": "ipython3",
   "version": "3.9.7"
  }
 },
 "nbformat": 4,
 "nbformat_minor": 5
}
