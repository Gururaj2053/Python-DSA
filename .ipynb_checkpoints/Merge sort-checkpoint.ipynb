{
 "cells": [
  {
   "cell_type": "markdown",
   "id": "3543a1c8",
   "metadata": {},
   "source": [
    "## Time complexity - O(nlogn) - all cases.\n",
    "## Space complexity - O(n) - recursive aux space."
   ]
  },
  {
   "cell_type": "code",
   "execution_count": 1,
   "id": "dc4e5875",
   "metadata": {},
   "outputs": [],
   "source": [
    "num1 = [6,7,8,9]\n",
    "num2 = [1,2,3,4]"
   ]
  },
  {
   "cell_type": "code",
   "execution_count": 2,
   "id": "cf2c69b7",
   "metadata": {},
   "outputs": [],
   "source": [
    "arr = [7,8,9,4,5,6,2]"
   ]
  },
  {
   "cell_type": "code",
   "execution_count": 7,
   "id": "a4a9932c",
   "metadata": {},
   "outputs": [],
   "source": [
    "def merge_sort(arr):\n",
    "    if len(arr)<=1:\n",
    "        return\n",
    "    mid = len(arr)//2\n",
    "    left = arr[:mid]\n",
    "    right = arr[mid:]\n",
    "    merge_sort(left)\n",
    "    merge_sort(right)\n",
    "    print(left,right)\n",
    "    merge_two_sorted_list(left,right,arr)\n",
    "    return arr"
   ]
  },
  {
   "cell_type": "code",
   "execution_count": 8,
   "id": "79e80c0e",
   "metadata": {},
   "outputs": [],
   "source": [
    "def merge_two_sorted_list(a,b,arr):\n",
    "    \n",
    "    i=j=k=0\n",
    "    len_a = len(a)\n",
    "    len_b = len(b)\n",
    "    while i<len_a and j<len_b:\n",
    "        if a[i] <= b[j]:\n",
    "            arr[k] = a[i]\n",
    "            i+=1\n",
    "        else:\n",
    "            arr[k]=b[j]\n",
    "            j+=1\n",
    "        k+=1\n",
    "    while i<len_a:\n",
    "        arr[k] = a[i]\n",
    "        i+=1\n",
    "        k+=1\n",
    "    while j<len_b:\n",
    "        arr[k] = b[j]\n",
    "        j+=1\n",
    "        k+=1"
   ]
  },
  {
   "cell_type": "code",
   "execution_count": 9,
   "id": "51d3bd34",
   "metadata": {},
   "outputs": [],
   "source": [
    "#merge_two_sorted_list(num1,num2)"
   ]
  },
  {
   "cell_type": "code",
   "execution_count": 10,
   "id": "b4beab63",
   "metadata": {},
   "outputs": [
    {
     "name": "stdout",
     "output_type": "stream",
     "text": [
      "[4] [5]\n",
      "[2] [4, 5]\n",
      "[6] [7]\n",
      "[8] [9]\n",
      "[6, 7] [8, 9]\n",
      "[2, 4, 5] [6, 7, 8, 9]\n"
     ]
    },
    {
     "data": {
      "text/plain": [
       "[2, 4, 5, 6, 7, 8, 9]"
      ]
     },
     "execution_count": 10,
     "metadata": {},
     "output_type": "execute_result"
    }
   ],
   "source": [
    "merge_sort(arr)"
   ]
  },
  {
   "cell_type": "code",
   "execution_count": null,
   "id": "fbf0ed88",
   "metadata": {},
   "outputs": [],
   "source": []
  }
 ],
 "metadata": {
  "kernelspec": {
   "display_name": "Python 3 (ipykernel)",
   "language": "python",
   "name": "python3"
  },
  "language_info": {
   "codemirror_mode": {
    "name": "ipython",
    "version": 3
   },
   "file_extension": ".py",
   "mimetype": "text/x-python",
   "name": "python",
   "nbconvert_exporter": "python",
   "pygments_lexer": "ipython3",
   "version": "3.9.7"
  }
 },
 "nbformat": 4,
 "nbformat_minor": 5
}
