{
 "cells": [
  {
   "cell_type": "code",
   "execution_count": 187,
   "id": "af4f3c95",
   "metadata": {},
   "outputs": [],
   "source": [
    "class CircularQueue():\n",
    "    def __init__(self,size):\n",
    "        self.capacity = size\n",
    "        self.size = 0\n",
    "        self.Q = [None]*self.capacity\n",
    "        self.front = self.rear =-1\n",
    "    \n",
    "    def isfull(self):\n",
    "        return (self.rear + 1) % self.capacity == self.front\n",
    "        \n",
    "    def isempty(self):\n",
    "        return self.front == -1 and self.rear ==-1\n",
    "    \n",
    "    def enqueue(self,data):\n",
    "        if (self.isfull()):\n",
    "            print(\"Queue is full\")\n",
    "        elif (self.isempty()):\n",
    "            self.rear = self.front = 0\n",
    "        else:\n",
    "            self.rear = (self.rear+1)%self.capacity\n",
    "        self.Q[self.rear] = data\n",
    "        self.size +=1\n",
    "        print(f\"{data} is enqueued\")\n",
    "\n",
    "    def dequeue(self):\n",
    "        if (self.isempty()):\n",
    "            print(\"queue is empty\")\n",
    "            return None\n",
    "        data2 = self.Q[self.front]\n",
    "        if self.front ==self.rear:\n",
    "            self.front = self.rear = -1\n",
    "            print(f\"{data2} is dequeued\")\n",
    "        else:\n",
    "            self.front = (self.front+1)%self.capacity\n",
    "            print(f\"{data2} is dequeued\")\n",
    "    \n",
    "    def peek(self):\n",
    "        if self.isempty():\n",
    "            print(\"Queue is empty.\")\n",
    "            return None\n",
    "        print(self.front)\n",
    "        print(self.Q[self.front])\n",
    "    "
   ]
  },
  {
   "cell_type": "code",
   "execution_count": 188,
   "id": "7cd416a8",
   "metadata": {},
   "outputs": [],
   "source": [
    "cq = CircularQueue(7)"
   ]
  },
  {
   "cell_type": "code",
   "execution_count": 189,
   "id": "726dfb91",
   "metadata": {},
   "outputs": [
    {
     "data": {
      "text/plain": [
       "[None, None, None, None, None, None, None]"
      ]
     },
     "execution_count": 189,
     "metadata": {},
     "output_type": "execute_result"
    }
   ],
   "source": [
    "cq.Q"
   ]
  },
  {
   "cell_type": "code",
   "execution_count": 190,
   "id": "d16d808f",
   "metadata": {},
   "outputs": [
    {
     "name": "stdout",
     "output_type": "stream",
     "text": [
      "42 is enqueued\n",
      "47 is enqueued\n",
      "44 is enqueued\n",
      "42 is enqueued\n",
      "47 is enqueued\n",
      "44 is enqueued\n",
      "55 is enqueued\n"
     ]
    }
   ],
   "source": [
    "cq.enqueue(42)\n",
    "cq.enqueue(47)\n",
    "cq.enqueue(44)\n",
    "cq.enqueue(42)\n",
    "cq.enqueue(47)\n",
    "cq.enqueue(44)\n",
    "cq.enqueue(55)"
   ]
  },
  {
   "cell_type": "code",
   "execution_count": 191,
   "id": "d9cf3eff",
   "metadata": {},
   "outputs": [
    {
     "data": {
      "text/plain": [
       "[42, 47, 44, 42, 47, 44, 55]"
      ]
     },
     "execution_count": 191,
     "metadata": {},
     "output_type": "execute_result"
    }
   ],
   "source": [
    "cq.Q"
   ]
  },
  {
   "cell_type": "code",
   "execution_count": 192,
   "id": "1b0320c0",
   "metadata": {},
   "outputs": [
    {
     "data": {
      "text/plain": [
       "0"
      ]
     },
     "execution_count": 192,
     "metadata": {},
     "output_type": "execute_result"
    }
   ],
   "source": [
    "cq.front"
   ]
  },
  {
   "cell_type": "code",
   "execution_count": 193,
   "id": "ac8e830c",
   "metadata": {},
   "outputs": [
    {
     "data": {
      "text/plain": [
       "6"
      ]
     },
     "execution_count": 193,
     "metadata": {},
     "output_type": "execute_result"
    }
   ],
   "source": [
    "cq.rear"
   ]
  },
  {
   "cell_type": "code",
   "execution_count": 196,
   "id": "5639ef25",
   "metadata": {},
   "outputs": [
    {
     "name": "stdout",
     "output_type": "stream",
     "text": [
      "44 is dequeued\n"
     ]
    }
   ],
   "source": [
    "cq.dequeue()"
   ]
  },
  {
   "cell_type": "code",
   "execution_count": 198,
   "id": "f226168d",
   "metadata": {},
   "outputs": [
    {
     "name": "stdout",
     "output_type": "stream",
     "text": [
      "53 is enqueued\n"
     ]
    }
   ],
   "source": [
    "cq.enqueue(53)"
   ]
  },
  {
   "cell_type": "code",
   "execution_count": 118,
   "id": "227ba3a6",
   "metadata": {},
   "outputs": [
    {
     "name": "stdout",
     "output_type": "stream",
     "text": [
      "1\n",
      "47\n"
     ]
    }
   ],
   "source": [
    "cq.peek()"
   ]
  },
  {
   "cell_type": "code",
   "execution_count": 119,
   "id": "c6d4b50c",
   "metadata": {},
   "outputs": [
    {
     "data": {
      "text/plain": [
       "[42, 47, 44, 42, 47, 44, 55]"
      ]
     },
     "execution_count": 119,
     "metadata": {},
     "output_type": "execute_result"
    }
   ],
   "source": [
    "cq.Q"
   ]
  },
  {
   "cell_type": "code",
   "execution_count": 9,
   "id": "d78601ea",
   "metadata": {},
   "outputs": [
    {
     "data": {
      "text/plain": [
       "3"
      ]
     },
     "execution_count": 9,
     "metadata": {},
     "output_type": "execute_result"
    }
   ],
   "source": [
    "cq.front"
   ]
  },
  {
   "cell_type": "code",
   "execution_count": null,
   "id": "8ab7e5cc",
   "metadata": {},
   "outputs": [],
   "source": []
  },
  {
   "cell_type": "code",
   "execution_count": null,
   "id": "cb8cc0e6",
   "metadata": {},
   "outputs": [],
   "source": []
  }
 ],
 "metadata": {
  "kernelspec": {
   "display_name": "Python 3 (ipykernel)",
   "language": "python",
   "name": "python3"
  },
  "language_info": {
   "codemirror_mode": {
    "name": "ipython",
    "version": 3
   },
   "file_extension": ".py",
   "mimetype": "text/x-python",
   "name": "python",
   "nbconvert_exporter": "python",
   "pygments_lexer": "ipython3",
   "version": "3.9.7"
  }
 },
 "nbformat": 4,
 "nbformat_minor": 5
}
