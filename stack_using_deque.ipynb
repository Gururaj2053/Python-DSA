{
 "cells": [
  {
   "cell_type": "code",
   "execution_count": 27,
   "id": "d11d57d6",
   "metadata": {},
   "outputs": [],
   "source": [
    "from collections import deque\n",
    "stack = deque()"
   ]
  },
  {
   "cell_type": "code",
   "execution_count": 28,
   "id": "2ed1c762",
   "metadata": {},
   "outputs": [
    {
     "data": {
      "text/plain": [
       "['__add__',\n",
       " '__bool__',\n",
       " '__class__',\n",
       " '__class_getitem__',\n",
       " '__contains__',\n",
       " '__copy__',\n",
       " '__delattr__',\n",
       " '__delitem__',\n",
       " '__dir__',\n",
       " '__doc__',\n",
       " '__eq__',\n",
       " '__format__',\n",
       " '__ge__',\n",
       " '__getattribute__',\n",
       " '__getitem__',\n",
       " '__gt__',\n",
       " '__hash__',\n",
       " '__iadd__',\n",
       " '__imul__',\n",
       " '__init__',\n",
       " '__init_subclass__',\n",
       " '__iter__',\n",
       " '__le__',\n",
       " '__len__',\n",
       " '__lt__',\n",
       " '__mul__',\n",
       " '__ne__',\n",
       " '__new__',\n",
       " '__reduce__',\n",
       " '__reduce_ex__',\n",
       " '__repr__',\n",
       " '__reversed__',\n",
       " '__rmul__',\n",
       " '__setattr__',\n",
       " '__setitem__',\n",
       " '__sizeof__',\n",
       " '__str__',\n",
       " '__subclasshook__',\n",
       " 'append',\n",
       " 'appendleft',\n",
       " 'clear',\n",
       " 'copy',\n",
       " 'count',\n",
       " 'extend',\n",
       " 'extendleft',\n",
       " 'index',\n",
       " 'insert',\n",
       " 'maxlen',\n",
       " 'pop',\n",
       " 'popleft',\n",
       " 'remove',\n",
       " 'reverse',\n",
       " 'rotate']"
      ]
     },
     "execution_count": 28,
     "metadata": {},
     "output_type": "execute_result"
    }
   ],
   "source": [
    "dir(stack)"
   ]
  },
  {
   "cell_type": "code",
   "execution_count": 29,
   "id": "fda61b4d",
   "metadata": {},
   "outputs": [],
   "source": [
    "stack.append('google.com')"
   ]
  },
  {
   "cell_type": "code",
   "execution_count": 30,
   "id": "254ab225",
   "metadata": {},
   "outputs": [
    {
     "data": {
      "text/plain": [
       "deque(['google.com',\n",
       "       'facebook.com',\n",
       "       'spotifycom',\n",
       "       'meta.com',\n",
       "       'twitter.com',\n",
       "       'instagram.com'])"
      ]
     },
     "execution_count": 30,
     "metadata": {},
     "output_type": "execute_result"
    }
   ],
   "source": [
    "stack.append('facebook.com')\n",
    "stack.append('spotifycom')\n",
    "stack.append('meta.com')\n",
    "stack.append('twitter.com')\n",
    "stack.append('instagram.com')\n",
    "stack"
   ]
  },
  {
   "cell_type": "code",
   "execution_count": 31,
   "id": "b1d2c917",
   "metadata": {},
   "outputs": [
    {
     "data": {
      "text/plain": [
       "'instagram.com'"
      ]
     },
     "execution_count": 31,
     "metadata": {},
     "output_type": "execute_result"
    }
   ],
   "source": [
    "stack.pop()"
   ]
  },
  {
   "cell_type": "code",
   "execution_count": 37,
   "id": "75923ecf",
   "metadata": {},
   "outputs": [],
   "source": [
    "class Stack:\n",
    "    def __init__ (self):\n",
    "        self.container=deque()\n",
    "    def push(self,val):\n",
    "        self.container.append(val)\n",
    "    def pop(self):\n",
    "        return self.container.pop()\n",
    "    def peek(self):\n",
    "        return self.container[-1]\n",
    "    def is_empty(self):\n",
    "        return len(self.container) == 0\n",
    "    def size(self):\n",
    "        return len(self.container)"
   ]
  },
  {
   "cell_type": "code",
   "execution_count": 38,
   "id": "633b4606",
   "metadata": {},
   "outputs": [
    {
     "data": {
      "text/plain": [
       "5"
      ]
     },
     "execution_count": 38,
     "metadata": {},
     "output_type": "execute_result"
    }
   ],
   "source": [
    "s = Stack()\n",
    "s.push(5)\n",
    "s.pop()"
   ]
  },
  {
   "cell_type": "code",
   "execution_count": 39,
   "id": "053e2d0f",
   "metadata": {},
   "outputs": [
    {
     "data": {
      "text/plain": [
       "0"
      ]
     },
     "execution_count": 39,
     "metadata": {},
     "output_type": "execute_result"
    }
   ],
   "source": [
    "s.size()"
   ]
  },
  {
   "cell_type": "code",
   "execution_count": 40,
   "id": "142d3d42",
   "metadata": {},
   "outputs": [
    {
     "data": {
      "text/plain": [
       "True"
      ]
     },
     "execution_count": 40,
     "metadata": {},
     "output_type": "execute_result"
    }
   ],
   "source": [
    "s.is_empty()"
   ]
  },
  {
   "cell_type": "code",
   "execution_count": 42,
   "id": "c7e74c37",
   "metadata": {},
   "outputs": [],
   "source": [
    "s.push('facebook.com')\n",
    "s.push('spotifycom')\n",
    "s.push('meta.com')\n",
    "s.push('twitter.com')\n",
    "s.push('instagram.com')"
   ]
  },
  {
   "cell_type": "code",
   "execution_count": 43,
   "id": "acf107a3",
   "metadata": {},
   "outputs": [
    {
     "data": {
      "text/plain": [
       "'instagram.com'"
      ]
     },
     "execution_count": 43,
     "metadata": {},
     "output_type": "execute_result"
    }
   ],
   "source": [
    "s.peek()"
   ]
  },
  {
   "cell_type": "code",
   "execution_count": null,
   "id": "776acdb9",
   "metadata": {},
   "outputs": [],
   "source": []
  }
 ],
 "metadata": {
  "kernelspec": {
   "display_name": "Python 3 (ipykernel)",
   "language": "python",
   "name": "python3"
  },
  "language_info": {
   "codemirror_mode": {
    "name": "ipython",
    "version": 3
   },
   "file_extension": ".py",
   "mimetype": "text/x-python",
   "name": "python",
   "nbconvert_exporter": "python",
   "pygments_lexer": "ipython3",
   "version": "3.9.7"
  }
 },
 "nbformat": 4,
 "nbformat_minor": 5
}
