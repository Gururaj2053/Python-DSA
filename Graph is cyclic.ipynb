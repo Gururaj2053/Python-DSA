{
 "cells": [
  {
   "cell_type": "markdown",
   "id": "b74ea772",
   "metadata": {},
   "source": [
    "# Solution1(dfs)"
   ]
  },
  {
   "cell_type": "code",
   "execution_count": 82,
   "id": "6c7ff784",
   "metadata": {},
   "outputs": [],
   "source": [
    "class Graph:\n",
    "    def __init__(self):\n",
    "        self.graph = {}\n",
    "\n",
    "    def add_edge(self,edges):\n",
    "        for u,v in edges:\n",
    "            if u not in self.graph:\n",
    "                self.graph[u] = []\n",
    "            if v not in self.graph:\n",
    "                self.graph[v] = []\n",
    "            self.graph[u].append(v)\n",
    "            self.graph[v].append(u)\n",
    "\n",
    "    def is_cyclic(self):\n",
    "        visited =set()\n",
    "\n",
    "        for i in self.graph:\n",
    "            if i not in visited:\n",
    "                if self.is_cyclic_util(i, visited, -1):\n",
    "                    return True\n",
    "        return False\n",
    "    \n",
    "    def is_cyclic_util(self, v, visited, parent):\n",
    "        visited.add(v)\n",
    "        for neighbor in self.graph[v]:\n",
    "            if neighbor not in visited:\n",
    "                if self.is_cyclic_util(neighbor, visited, v):\n",
    "                    return True\n",
    "            elif parent != neighbor:\n",
    "                return True\n",
    "           \n",
    "        return False"
   ]
  },
  {
   "cell_type": "code",
   "execution_count": 83,
   "id": "7589653c",
   "metadata": {},
   "outputs": [
    {
     "name": "stdout",
     "output_type": "stream",
     "text": [
      "The graph contains a cycle\n"
     ]
    }
   ],
   "source": [
    "g = Graph()\n",
    "g.add_edge([(\"Mumbai\",\"Paris\"),\n",
    "            (\"Mumbai\",\"Dubai\"),\n",
    "            (\"Paris\",\"Dubai\"),\n",
    "            (\"Paris\",\"New York\"),\n",
    "            (\"Dubai\",\"New York\"),\n",
    "            (\"New York\",\"Toronto\"),\n",
    "            (\"Banglore\",\"Mysore\")\n",
    "            ])\n",
    "\n",
    "if g.is_cyclic():\n",
    "    print(\"The graph contains a cycle\")\n",
    "else:\n",
    "    print(\"The graph is acyclic\")\n"
   ]
  },
  {
   "cell_type": "markdown",
   "id": "3c37a737",
   "metadata": {},
   "source": [
    "# Solution2 (bfs)"
   ]
  },
  {
   "cell_type": "code",
   "execution_count": 91,
   "id": "98d315c9",
   "metadata": {},
   "outputs": [],
   "source": [
    "class Graph1:\n",
    "    def __init__(self):\n",
    "        self.dict = {}\n",
    "    def add_edge(self,edges):\n",
    "        for u,v in edges:\n",
    "            if u not in self.dict:\n",
    "                self.dict[u] = []\n",
    "            if v not in self.dict:\n",
    "                self.dict[v] = []\n",
    "            self.dict[u].append(v)\n",
    "            self.dict[v].append(u)\n",
    "            \n",
    "    def is_cyclic(self):\n",
    "        visited = set()\n",
    "        queue = []\n",
    "        queue.append(list(self.dict.keys())[0])\n",
    "        prev = -1\n",
    "        while queue:\n",
    "            vertex = queue.pop(0)\n",
    "            for neighbor in self.dict[vertex]:\n",
    "                if neighbor in visited and neighbor != prev:\n",
    "                    return True\n",
    "                if vertex not in visited:\n",
    "                    queue.append(neighbor)\n",
    "                    visited.add(neighbor)\n"
   ]
  },
  {
   "cell_type": "code",
   "execution_count": 93,
   "id": "cae56554",
   "metadata": {},
   "outputs": [
    {
     "name": "stdout",
     "output_type": "stream",
     "text": [
      "The graph contains a cycle\n"
     ]
    }
   ],
   "source": [
    "g = Graph1()\n",
    "g.add_edge([(\"Mumbai\",\"Paris\"),\n",
    "            (\"Mumbai\",\"Dubai\"),\n",
    "            (\"Paris\",\"Dubai\"),\n",
    "            (\"Paris\",\"New York\"),\n",
    "            (\"Dubai\",\"New York\"),\n",
    "            (\"New York\",\"Toronto\"),\n",
    "            (\"Banglore\",\"Mysore\")\n",
    "            ])\n",
    "\n",
    "if g.is_cyclic():\n",
    "    print(\"The graph contains a cycle\")\n",
    "else:\n",
    "    print(\"The graph is acyclic\")\n"
   ]
  },
  {
   "cell_type": "code",
   "execution_count": null,
   "id": "ae032dde",
   "metadata": {},
   "outputs": [],
   "source": []
  }
 ],
 "metadata": {
  "kernelspec": {
   "display_name": "Python 3 (ipykernel)",
   "language": "python",
   "name": "python3"
  },
  "language_info": {
   "codemirror_mode": {
    "name": "ipython",
    "version": 3
   },
   "file_extension": ".py",
   "mimetype": "text/x-python",
   "name": "python",
   "nbconvert_exporter": "python",
   "pygments_lexer": "ipython3",
   "version": "3.9.7"
  }
 },
 "nbformat": 4,
 "nbformat_minor": 5
}
