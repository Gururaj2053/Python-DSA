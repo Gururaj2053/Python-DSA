{
 "cells": [
  {
   "cell_type": "code",
   "execution_count": 11,
   "id": "d755d5c0",
   "metadata": {},
   "outputs": [],
   "source": [
    "class TreeNode:\n",
    "    def __init__(self, val=0, left=None, right=None):\n",
    "        self.val = val\n",
    "        self.left = left\n",
    "        self.right = right"
   ]
  },
  {
   "cell_type": "code",
   "execution_count": 12,
   "id": "a46de7fc",
   "metadata": {},
   "outputs": [],
   "source": [
    "tree = TreeNode(2,TreeNode(4,TreeNode(8),TreeNode(10)),TreeNode(6,TreeNode(12,TreeNode(16),TreeNode(18)),TreeNode(14)))"
   ]
  },
  {
   "cell_type": "code",
   "execution_count": 13,
   "id": "ec494d18",
   "metadata": {},
   "outputs": [],
   "source": [
    "def print_tree(root,level=0,prefix = 'Root'):\n",
    "    if root==None:\n",
    "        return\n",
    "    print(' '*level*3+prefix+str(root.val))\n",
    "    if root.left:\n",
    "        print_tree(root.left,level+1, prefix = '--L:')\n",
    "    if root.right:\n",
    "        print_tree(root.right,level+1, prefix = '--R:')"
   ]
  },
  {
   "cell_type": "code",
   "execution_count": 14,
   "id": "e1efbef5",
   "metadata": {},
   "outputs": [
    {
     "name": "stdout",
     "output_type": "stream",
     "text": [
      "Root2\n",
      "   --L:4\n",
      "      --L:8\n",
      "      --R:10\n",
      "   --R:6\n",
      "      --L:12\n",
      "         --L:16\n",
      "         --R:18\n",
      "      --R:14\n"
     ]
    }
   ],
   "source": [
    "print_tree(tree)"
   ]
  },
  {
   "cell_type": "code",
   "execution_count": 15,
   "id": "8ddc0ff2",
   "metadata": {},
   "outputs": [],
   "source": [
    "def postorderTraversal(root):\n",
    "    result = []\n",
    "    stack = []\n",
    "    while root or stack:\n",
    "        if root:\n",
    "            stack.append(root)\n",
    "            result.insert(0, root.val)\n",
    "            root = root.right\n",
    "        else:\n",
    "            node = stack.pop()\n",
    "            root = node.left\n",
    "    return result"
   ]
  },
  {
   "cell_type": "code",
   "execution_count": 16,
   "id": "6932990a",
   "metadata": {},
   "outputs": [],
   "source": [
    "tree = TreeNode(2,TreeNode(4,TreeNode(8),TreeNode(10)),TreeNode(6,TreeNode(12,TreeNode(16),TreeNode(18)),TreeNode(14)))"
   ]
  },
  {
   "cell_type": "code",
   "execution_count": 17,
   "id": "a3483fc5",
   "metadata": {},
   "outputs": [
    {
     "data": {
      "text/plain": [
       "[8, 10, 4, 16, 18, 12, 14, 6, 2]"
      ]
     },
     "execution_count": 17,
     "metadata": {},
     "output_type": "execute_result"
    }
   ],
   "source": [
    "postorderTraversal(tree) #Output: [4, 5, 2, 3, 1]"
   ]
  },
  {
   "cell_type": "code",
   "execution_count": null,
   "id": "ea78a4a8",
   "metadata": {},
   "outputs": [],
   "source": []
  }
 ],
 "metadata": {
  "kernelspec": {
   "display_name": "Python 3 (ipykernel)",
   "language": "python",
   "name": "python3"
  },
  "language_info": {
   "codemirror_mode": {
    "name": "ipython",
    "version": 3
   },
   "file_extension": ".py",
   "mimetype": "text/x-python",
   "name": "python",
   "nbconvert_exporter": "python",
   "pygments_lexer": "ipython3",
   "version": "3.9.7"
  }
 },
 "nbformat": 4,
 "nbformat_minor": 5
}
