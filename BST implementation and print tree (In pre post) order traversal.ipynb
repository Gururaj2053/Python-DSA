{
 "cells": [
  {
   "cell_type": "markdown",
   "id": "1ff7695b",
   "metadata": {},
   "source": [
    "## Search tree can also used as set operator with IN order traversal"
   ]
  },
  {
   "cell_type": "code",
   "execution_count": 16,
   "id": "e9446881",
   "metadata": {},
   "outputs": [],
   "source": [
    "class BinarySearchTreeNode:\n",
    "    def __init__(self,data):\n",
    "        self.data = data\n",
    "        self.left = None\n",
    "        self.right = None\n",
    "\n",
    "    def add_child(self,data):\n",
    "        if data == self.data:\n",
    "            return\n",
    "        if data < self.data:\n",
    "            if self.left:\n",
    "                self.left.add_child(data)\n",
    "            else:\n",
    "                self.left = BinarySearchTreeNode(data)\n",
    "        else: \n",
    "            if self.right:\n",
    "                self.right.add_child(data)\n",
    "            else:\n",
    "                self.right = BinarySearchTreeNode(data)\n",
    "                \n",
    "    def print_tree(self,level=0,prefix='Root:'):\n",
    "        print(' '*level*4 + prefix +str(self.data))\n",
    "        if self.left:\n",
    "            self.left.print_tree(level+1,'--L:')\n",
    "        if self.right:\n",
    "            self.right.print_tree(level+1,'--R:')\n",
    "                \n",
    "    def in_order_traversal(self):\n",
    "        elements = []\n",
    "        if self.left:\n",
    "            elements += self.left.in_order_traversal()\n",
    "        elements.append(self.data)\n",
    "        if self.right:\n",
    "            elements += self.right.in_order_traversal()\n",
    "        return elements\n",
    "    \n",
    "    def pre_order_traversal(self):\n",
    "        elements = []\n",
    "        elements.append(self.data)\n",
    "        if self.left:\n",
    "            elements+=self.left.pre_order_traversal()\n",
    "        if self.right:\n",
    "            elements+=self.right.pre_order_traversal()\n",
    "        return elements\n",
    "\n",
    "    def post_order_traversal(self):\n",
    "        elements= []\n",
    "        if self.left:\n",
    "            elements+=self.left.post_order_traversal()\n",
    "        if self.right:\n",
    "            elements+=self.right.post_order_traversal()\n",
    "        elements.append(self.data)\n",
    "        return elements           "
   ]
  },
  {
   "cell_type": "code",
   "execution_count": 17,
   "id": "45cd9b7e",
   "metadata": {},
   "outputs": [],
   "source": [
    "def build_tree(elements):\n",
    "    root = BinarySearchTreeNode(elements[0])\n",
    "    \n",
    "    for i in range(1,len(elements)):\n",
    "        root.add_child(elements[i])\n",
    "    \n",
    "    return root"
   ]
  },
  {
   "cell_type": "code",
   "execution_count": 18,
   "id": "26349652",
   "metadata": {},
   "outputs": [
    {
     "name": "stdout",
     "output_type": "stream",
     "text": [
      "Pre order: [15, 12, 7, 14, 27, 20, 23, 88]\n",
      "In order: [7, 12, 14, 15, 20, 23, 27, 88]\n",
      "Post order: [7, 14, 12, 23, 20, 88, 27, 15]\n"
     ]
    }
   ],
   "source": [
    "nums = [15,27,12,7,14,12,20,88,23]\n",
    "nums_tree = build_tree(nums)\n",
    "print(f'Pre order: {nums_tree.pre_order_traversal()}')\n",
    "print(f'In order: {nums_tree.in_order_traversal()}')\n",
    "print(f'Post order: {nums_tree.post_order_traversal()}')"
   ]
  },
  {
   "cell_type": "code",
   "execution_count": 19,
   "id": "a2eeaccd",
   "metadata": {},
   "outputs": [
    {
     "name": "stdout",
     "output_type": "stream",
     "text": [
      "Root:15\n",
      "    --L:12\n",
      "        --L:7\n",
      "        --R:14\n",
      "    --R:27\n",
      "        --L:20\n",
      "            --R:23\n",
      "        --R:88\n"
     ]
    }
   ],
   "source": [
    "nums_tree.print_tree()"
   ]
  },
  {
   "cell_type": "code",
   "execution_count": 20,
   "id": "92a7ea86",
   "metadata": {},
   "outputs": [
    {
     "name": "stdout",
     "output_type": "stream",
     "text": [
      "Root:15\n",
      "    --L:12\n",
      "        --L:7\n",
      "        --R:14\n",
      "    --R:27\n",
      "        --L:20\n",
      "            --R:23\n",
      "        --R:88\n"
     ]
    }
   ],
   "source": [
    "nums_tree.print_tree()"
   ]
  },
  {
   "cell_type": "code",
   "execution_count": 21,
   "id": "00f08df8",
   "metadata": {},
   "outputs": [
    {
     "name": "stdout",
     "output_type": "stream",
     "text": [
      "['a,', 'b,', 'c,', 'd,', 'e,', 'f,', 'g,', 'h,', 'i,']\n"
     ]
    }
   ],
   "source": [
    "s = 'hdaiebfgc'\n",
    "nums = [i+',' for i in s]\n",
    "nums_tree = build_tree(nums)\n",
    "print(nums_tree.in_order_traversal())"
   ]
  },
  {
   "cell_type": "code",
   "execution_count": 22,
   "id": "71b739f6",
   "metadata": {},
   "outputs": [
    {
     "name": "stdout",
     "output_type": "stream",
     "text": [
      "Root:h,\n",
      "    --L:d,\n",
      "        --L:a,\n",
      "            --R:b,\n",
      "                --R:c,\n",
      "        --R:e,\n",
      "            --R:f,\n",
      "                --R:g,\n",
      "    --R:i,\n"
     ]
    }
   ],
   "source": [
    "nums_tree.print_tree()"
   ]
  },
  {
   "cell_type": "code",
   "execution_count": null,
   "id": "d54d5151",
   "metadata": {},
   "outputs": [],
   "source": []
  },
  {
   "cell_type": "code",
   "execution_count": null,
   "id": "03f67355",
   "metadata": {},
   "outputs": [],
   "source": []
  }
 ],
 "metadata": {
  "kernelspec": {
   "display_name": "Python 3 (ipykernel)",
   "language": "python",
   "name": "python3"
  },
  "language_info": {
   "codemirror_mode": {
    "name": "ipython",
    "version": 3
   },
   "file_extension": ".py",
   "mimetype": "text/x-python",
   "name": "python",
   "nbconvert_exporter": "python",
   "pygments_lexer": "ipython3",
   "version": "3.9.7"
  }
 },
 "nbformat": 4,
 "nbformat_minor": 5
}
