{
 "cells": [
  {
   "cell_type": "markdown",
   "id": "9c7ad027",
   "metadata": {},
   "source": [
    "# Solution 1"
   ]
  },
  {
   "cell_type": "code",
   "execution_count": 129,
   "id": "03736a04",
   "metadata": {},
   "outputs": [],
   "source": [
    "class TreeNode:\n",
    "    def __init__(self, val=0, left=None, right=None):\n",
    "        self.val = val\n",
    "        self.left = left\n",
    "        self.right = right"
   ]
  },
  {
   "cell_type": "code",
   "execution_count": 130,
   "id": "548f4ed2",
   "metadata": {},
   "outputs": [],
   "source": [
    "class Solution:\n",
    "    def helper(self,point,subRoot):\n",
    "        if not point and not subRoot:\n",
    "            return True\n",
    "        if not point or not subRoot:\n",
    "            return False\n",
    "        if point.val != subRoot.val:\n",
    "            return False\n",
    "        left = self.helper(point.left,subRoot.left)\n",
    "        right = self.helper(point.right,subRoot.right)\n",
    "        return left and right\n",
    "    def isSubtree(self,root,subRoot):\n",
    "        curr = root\n",
    "        stack = [root]\n",
    "        possible_starts = set()\n",
    "        while stack:\n",
    "            curr = stack.pop()\n",
    "            if curr.val == subRoot.val:\n",
    "                possible_starts.add(curr)\n",
    "            if curr.left:\n",
    "                stack.append(curr.left)\n",
    "            if curr.right:\n",
    "                stack.append(curr.right)\n",
    "        if len(possible_starts) == 0:\n",
    "            return False\n",
    "        for start in possible_starts:\n",
    "            if self.helper(start,subRoot):\n",
    "                return True\n",
    "        return False"
   ]
  },
  {
   "cell_type": "code",
   "execution_count": 131,
   "id": "e9c44955",
   "metadata": {},
   "outputs": [],
   "source": [
    "root = TreeNode(3,TreeNode(4,TreeNode(1),TreeNode(2)),TreeNode(5))\n",
    "subRoot = TreeNode(4,TreeNode(1),TreeNode(2))"
   ]
  },
  {
   "cell_type": "code",
   "execution_count": 132,
   "id": "eb8099fd",
   "metadata": {},
   "outputs": [],
   "source": [
    "ans = Solution()"
   ]
  },
  {
   "cell_type": "code",
   "execution_count": 133,
   "id": "57a7c378",
   "metadata": {},
   "outputs": [
    {
     "data": {
      "text/plain": [
       "True"
      ]
     },
     "execution_count": 133,
     "metadata": {},
     "output_type": "execute_result"
    }
   ],
   "source": [
    "ans.isSubtree(root,subRoot)"
   ]
  },
  {
   "cell_type": "markdown",
   "id": "56c334a5",
   "metadata": {},
   "source": [
    "# Solution 2"
   ]
  },
  {
   "cell_type": "code",
   "execution_count": 120,
   "id": "da169055",
   "metadata": {},
   "outputs": [],
   "source": [
    "class TreeNode:\n",
    "    def __init__(self,val,left = None,right = None):\n",
    "        self.val = val\n",
    "        self.left = left\n",
    "        self.right = right"
   ]
  },
  {
   "cell_type": "code",
   "execution_count": 125,
   "id": "8b6527cc",
   "metadata": {},
   "outputs": [],
   "source": [
    "class Solution:\n",
    "    def isSameTree(self,root,subRoot):\n",
    "        if not root and not subRoot:\n",
    "            return True\n",
    "        if not root or not subRoot:\n",
    "            return False\n",
    "        return root.val == subRoot and self.isSameTree(root.left,subRoot.left) and self.isSameTree(root.right,subRoot.right)\n",
    "    def isSubtree(self, root,subRoot):\n",
    "        if not root:\n",
    "            return False\n",
    "        if self.isSameTree(root,subRoot):\n",
    "            return True\n",
    "        return self.isSubtree(root.left,subRoot) and self.isSubtree(root.right,subRoot)"
   ]
  },
  {
   "cell_type": "code",
   "execution_count": 149,
   "id": "63b90511",
   "metadata": {},
   "outputs": [],
   "source": [
    "root = TreeNode(3,TreeNode(4,TreeNode(1),TreeNode(2)),TreeNode(5))\n",
    "subRoot = TreeNode(4,TreeNode(1),TreeNode(2))"
   ]
  },
  {
   "cell_type": "code",
   "execution_count": 150,
   "id": "3d002f4d",
   "metadata": {},
   "outputs": [],
   "source": [
    "ans = Solution()"
   ]
  },
  {
   "cell_type": "code",
   "execution_count": 151,
   "id": "f405f0a5",
   "metadata": {},
   "outputs": [
    {
     "data": {
      "text/plain": [
       "True"
      ]
     },
     "execution_count": 151,
     "metadata": {},
     "output_type": "execute_result"
    }
   ],
   "source": [
    "ans.isSubtree(root,subRoot)"
   ]
  }
 ],
 "metadata": {
  "kernelspec": {
   "display_name": "Python 3 (ipykernel)",
   "language": "python",
   "name": "python3"
  },
  "language_info": {
   "codemirror_mode": {
    "name": "ipython",
    "version": 3
   },
   "file_extension": ".py",
   "mimetype": "text/x-python",
   "name": "python",
   "nbconvert_exporter": "python",
   "pygments_lexer": "ipython3",
   "version": "3.9.7"
  }
 },
 "nbformat": 4,
 "nbformat_minor": 5
}
