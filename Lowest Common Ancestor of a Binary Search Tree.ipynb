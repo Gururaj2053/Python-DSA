{
 "cells": [
  {
   "cell_type": "code",
   "execution_count": 22,
   "id": "d45cac5c",
   "metadata": {},
   "outputs": [],
   "source": [
    "class TreeNode:\n",
    "    def __init__(self,val, left= None,right=None):\n",
    "        self.val = val\n",
    "        self.left = left\n",
    "        self.right = right\n",
    "\n",
    "class Solution:\n",
    "    def lowestCommonAncestor(self, root: 'TreeNode', p: 'TreeNode', q: 'TreeNode') -> 'TreeNode':\n",
    "        if p is None or q is None:\n",
    "            return None\n",
    "        if min(p.val,q.val)<=root.val<=max(p.val,q.val):\n",
    "            return root.val\n",
    "        elif root.val>max(p.val,q.val):\n",
    "            return self.lowestCommonAncestor(root.left,p,q)\n",
    "        return self.lowestCommonAncestor(root.right,p,q)"
   ]
  },
  {
   "cell_type": "code",
   "execution_count": 23,
   "id": "9c9d590e",
   "metadata": {},
   "outputs": [],
   "source": [
    "root = TreeNode(6,TreeNode(2,TreeNode(0),TreeNode(4,TreeNode(3),TreeNode(5))),TreeNode(8,TreeNode(7),TreeNode(9)))"
   ]
  },
  {
   "cell_type": "code",
   "execution_count": 24,
   "id": "ba7ee890",
   "metadata": {},
   "outputs": [
    {
     "data": {
      "text/plain": [
       "2"
      ]
     },
     "execution_count": 24,
     "metadata": {},
     "output_type": "execute_result"
    }
   ],
   "source": [
    "ans = Solution()\n",
    "ans.lowestCommonAncestor(root,TreeNode(2),TreeNode(4))"
   ]
  },
  {
   "cell_type": "code",
   "execution_count": null,
   "id": "5769431f",
   "metadata": {},
   "outputs": [],
   "source": []
  }
 ],
 "metadata": {
  "kernelspec": {
   "display_name": "Python 3 (ipykernel)",
   "language": "python",
   "name": "python3"
  },
  "language_info": {
   "codemirror_mode": {
    "name": "ipython",
    "version": 3
   },
   "file_extension": ".py",
   "mimetype": "text/x-python",
   "name": "python",
   "nbconvert_exporter": "python",
   "pygments_lexer": "ipython3",
   "version": "3.9.7"
  }
 },
 "nbformat": 4,
 "nbformat_minor": 5
}
