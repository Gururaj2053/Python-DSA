{
 "cells": [
  {
   "cell_type": "markdown",
   "id": "e702ed4f",
   "metadata": {},
   "source": [
    "# Solution 1"
   ]
  },
  {
   "cell_type": "code",
   "execution_count": 125,
   "id": "22899b91",
   "metadata": {},
   "outputs": [],
   "source": [
    "def search(nums: list[int], target: int) -> int:\n",
    "    low,high = 0,len(nums)\n",
    "    if target not in nums:\n",
    "        return -1\n",
    "    while low<=high:\n",
    "        mid = low + (high-low)//2\n",
    "        if nums[mid] == target:\n",
    "            return mid\n",
    "        elif nums[mid]<target:\n",
    "            low = mid + 1\n",
    "        else:\n",
    "            high = mid-1"
   ]
  },
  {
   "cell_type": "code",
   "execution_count": 126,
   "id": "ba574308",
   "metadata": {},
   "outputs": [],
   "source": [
    "nums,target = [-1,0,3,5,9,12],9"
   ]
  },
  {
   "cell_type": "code",
   "execution_count": 127,
   "id": "01ece231",
   "metadata": {},
   "outputs": [
    {
     "data": {
      "text/plain": [
       "4"
      ]
     },
     "execution_count": 127,
     "metadata": {},
     "output_type": "execute_result"
    }
   ],
   "source": [
    "search(nums,target)"
   ]
  },
  {
   "cell_type": "markdown",
   "id": "470c1d0a",
   "metadata": {},
   "source": [
    "# Solution 2"
   ]
  },
  {
   "cell_type": "code",
   "execution_count": 142,
   "id": "cbe6e87f",
   "metadata": {},
   "outputs": [],
   "source": [
    "def search( nums: list[int], target: int) -> int:\n",
    "        if target not in nums:\n",
    "            return -1\n",
    "        left, right = 0, len(nums)\n",
    "        while left < right:\n",
    "            print(left,right)\n",
    "            mid = (left + right) // 2\n",
    "            print(mid)\n",
    "            if nums[mid] < target:\n",
    "                left = mid + 1\n",
    "            else:\n",
    "                right = mid-1\n",
    "        return left\n"
   ]
  },
  {
   "cell_type": "code",
   "execution_count": 143,
   "id": "f4371f10",
   "metadata": {},
   "outputs": [],
   "source": [
    "nums,target = [2,4,6,9,12,18],12"
   ]
  },
  {
   "cell_type": "code",
   "execution_count": 144,
   "id": "705e9aa1",
   "metadata": {},
   "outputs": [
    {
     "name": "stdout",
     "output_type": "stream",
     "text": [
      "0 6\n",
      "3\n",
      "4 6\n",
      "5\n"
     ]
    },
    {
     "data": {
      "text/plain": [
       "4"
      ]
     },
     "execution_count": 144,
     "metadata": {},
     "output_type": "execute_result"
    }
   ],
   "source": [
    "search(nums,target)"
   ]
  },
  {
   "cell_type": "code",
   "execution_count": 145,
   "id": "4825231a",
   "metadata": {},
   "outputs": [
    {
     "name": "stdout",
     "output_type": "stream",
     "text": [
      "7\n"
     ]
    }
   ],
   "source": [
    "print(7)"
   ]
  },
  {
   "cell_type": "code",
   "execution_count": null,
   "id": "1bf6b541",
   "metadata": {},
   "outputs": [],
   "source": []
  }
 ],
 "metadata": {
  "kernelspec": {
   "display_name": "Python 3 (ipykernel)",
   "language": "python",
   "name": "python3"
  },
  "language_info": {
   "codemirror_mode": {
    "name": "ipython",
    "version": 3
   },
   "file_extension": ".py",
   "mimetype": "text/x-python",
   "name": "python",
   "nbconvert_exporter": "python",
   "pygments_lexer": "ipython3",
   "version": "3.9.7"
  }
 },
 "nbformat": 4,
 "nbformat_minor": 5
}
