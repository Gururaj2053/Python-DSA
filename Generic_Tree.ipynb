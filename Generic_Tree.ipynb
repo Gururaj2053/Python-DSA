{
 "cells": [
  {
   "cell_type": "code",
   "execution_count": 11,
   "id": "bde6a844",
   "metadata": {},
   "outputs": [],
   "source": [
    "class TreeNode:\n",
    "    def __init__(self,data):\n",
    "        self.data = data\n",
    "        self.parent = None\n",
    "        self.children = []\n",
    "    \n",
    "    def level_of_tree(self):\n",
    "        level =0\n",
    "        p = self.parent\n",
    "        while p:\n",
    "            level+=1\n",
    "            p = p.parent\n",
    "        return level\n",
    "\n",
    "    def add_child(self,child):\n",
    "        child.parent = self \n",
    "        self.children.append(child)\n",
    "        \n",
    "    def print_tree(self):\n",
    "        spaces = ' ' * self.level_of_tree()*3\n",
    "        prefix = spaces + '|__' if self.parent else \"\" \n",
    "        print(prefix + self.data)\n",
    "        if self.children:\n",
    "            for child in self.children:\n",
    "                child.print_tree()\n",
    "    def display(self, level=0, prefix='Root:'):\n",
    "        print(' ' * (level * 8) + prefix + str(self.data))\n",
    "        if self.children:\n",
    "            for child in self.children:\n",
    "                child.display(level+1,'child:')"
   ]
  },
  {
   "cell_type": "code",
   "execution_count": 12,
   "id": "1866c458",
   "metadata": {},
   "outputs": [],
   "source": [
    "def build_product_tree():\n",
    "    root = TreeNode(\"Electronics\")\n",
    "    \n",
    "    laptop = TreeNode(\"Laptop\")\n",
    "    laptop.add_child(TreeNode(\"Surface\"))\n",
    "    laptop.add_child(TreeNode(\"Thinkpad\"))\n",
    "    laptop.add_child(TreeNode(\"Mac\"))\n",
    "    \n",
    "    tv = TreeNode(\"TV\")\n",
    "    tv.add_child(TreeNode(\"Samsung\"))\n",
    "    tv.add_child(TreeNode(\"LG\"))\n",
    "    \n",
    "    cellphone = TreeNode(\"Cellphone\")\n",
    "    cellphone.add_child(TreeNode(\"iphone\"))\n",
    "    cellphone.add_child(TreeNode(\"Google Pixel\"))\n",
    "    cellphone.add_child(TreeNode(\"Vivo\"))\n",
    "        \n",
    "    root.add_child(laptop)\n",
    "    root.add_child(cellphone)\n",
    "    root.add_child(tv)\n",
    "    return root"
   ]
  },
  {
   "cell_type": "code",
   "execution_count": 13,
   "id": "fc201c87",
   "metadata": {},
   "outputs": [],
   "source": [
    "root = build_product_tree()"
   ]
  },
  {
   "cell_type": "code",
   "execution_count": 14,
   "id": "0f1aedfb",
   "metadata": {},
   "outputs": [
    {
     "name": "stdout",
     "output_type": "stream",
     "text": [
      "Electronics\n",
      "   |__Laptop\n",
      "      |__Surface\n",
      "      |__Thinkpad\n",
      "      |__Mac\n",
      "   |__Cellphone\n",
      "      |__iphone\n",
      "      |__Google Pixel\n",
      "      |__Vivo\n",
      "   |__TV\n",
      "      |__Samsung\n",
      "      |__LG\n",
      "Root:Electronics\n",
      "        child:Laptop\n",
      "                child:Surface\n",
      "                child:Thinkpad\n",
      "                child:Mac\n",
      "        child:Cellphone\n",
      "                child:iphone\n",
      "                child:Google Pixel\n",
      "                child:Vivo\n",
      "        child:TV\n",
      "                child:Samsung\n",
      "                child:LG\n"
     ]
    }
   ],
   "source": [
    "root.print_tree()\n",
    "root.display()"
   ]
  },
  {
   "cell_type": "code",
   "execution_count": null,
   "id": "54f8929a",
   "metadata": {},
   "outputs": [],
   "source": []
  }
 ],
 "metadata": {
  "kernelspec": {
   "display_name": "Python 3 (ipykernel)",
   "language": "python",
   "name": "python3"
  },
  "language_info": {
   "codemirror_mode": {
    "name": "ipython",
    "version": 3
   },
   "file_extension": ".py",
   "mimetype": "text/x-python",
   "name": "python",
   "nbconvert_exporter": "python",
   "pygments_lexer": "ipython3",
   "version": "3.9.7"
  }
 },
 "nbformat": 4,
 "nbformat_minor": 5
}
