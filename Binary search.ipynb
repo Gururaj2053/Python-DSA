{
 "cells": [
  {
   "cell_type": "markdown",
   "id": "d7ca702c",
   "metadata": {},
   "source": [
    "# Iterative "
   ]
  },
  {
   "cell_type": "code",
   "execution_count": 1,
   "id": "4ea82a6a",
   "metadata": {},
   "outputs": [],
   "source": [
    "def Binarysearch(arr,low,high,value):\n",
    "    while low<=high:\n",
    "        mid = low + (high-low)//2\n",
    "        if arr[mid] == value:\n",
    "            return mid\n",
    "        elif arr[mid]<value:\n",
    "            low = mid + 1\n",
    "        else:\n",
    "            high = mid-1\n",
    "            \n",
    "    return -1"
   ]
  },
  {
   "cell_type": "code",
   "execution_count": 2,
   "id": "72239086",
   "metadata": {},
   "outputs": [],
   "source": [
    "arr = [2, 3, 4, 10, 40]\n",
    "x = 10"
   ]
  },
  {
   "cell_type": "code",
   "execution_count": 3,
   "id": "24844690",
   "metadata": {},
   "outputs": [
    {
     "data": {
      "text/plain": [
       "3"
      ]
     },
     "execution_count": 3,
     "metadata": {},
     "output_type": "execute_result"
    }
   ],
   "source": [
    "Binarysearch(arr,0,len(arr),x)"
   ]
  },
  {
   "cell_type": "markdown",
   "id": "a0101824",
   "metadata": {},
   "source": [
    "# Recursive"
   ]
  },
  {
   "cell_type": "code",
   "execution_count": 43,
   "id": "812337fd",
   "metadata": {},
   "outputs": [],
   "source": [
    "def binarysearch(arr,low,high,value):\n",
    "    if low<=high:\n",
    "        mid = low + (high-low)// 2\n",
    "        if arr[mid] == value:\n",
    "            return mid\n",
    "        elif arr[mid]>value:\n",
    "            return binarysearch(arr,low,mid-1,value)\n",
    "        else:\n",
    "            return binarysearch(arr,mid+1,high,value)\n",
    "\n",
    "    return -1"
   ]
  },
  {
   "cell_type": "code",
   "execution_count": 44,
   "id": "efecc7b9",
   "metadata": {},
   "outputs": [],
   "source": [
    "arr = [2, 3, 4, 10, 40]\n",
    "x = 10"
   ]
  },
  {
   "cell_type": "code",
   "execution_count": 45,
   "id": "0d445737",
   "metadata": {},
   "outputs": [
    {
     "data": {
      "text/plain": [
       "3"
      ]
     },
     "execution_count": 45,
     "metadata": {},
     "output_type": "execute_result"
    }
   ],
   "source": [
    "binarysearch(arr,0,len(arr),x)"
   ]
  },
  {
   "cell_type": "code",
   "execution_count": null,
   "id": "5f4e4a32",
   "metadata": {},
   "outputs": [],
   "source": []
  }
 ],
 "metadata": {
  "kernelspec": {
   "display_name": "Python 3 (ipykernel)",
   "language": "python",
   "name": "python3"
  },
  "language_info": {
   "codemirror_mode": {
    "name": "ipython",
    "version": 3
   },
   "file_extension": ".py",
   "mimetype": "text/x-python",
   "name": "python",
   "nbconvert_exporter": "python",
   "pygments_lexer": "ipython3",
   "version": "3.9.7"
  }
 },
 "nbformat": 4,
 "nbformat_minor": 5
}
