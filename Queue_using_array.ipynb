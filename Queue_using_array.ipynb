{
 "cells": [
  {
   "cell_type": "markdown",
   "id": "790238a5",
   "metadata": {},
   "source": [
    "# Queue using array(class implementation)"
   ]
  },
  {
   "cell_type": "code",
   "execution_count": 106,
   "id": "b8245334",
   "metadata": {},
   "outputs": [],
   "source": [
    "class Queue:\n",
    "    def __init__(self,capacity):\n",
    "        self.front = self.size = 0\n",
    "        self.rear = capacity-1\n",
    "        self.capacity = capacity\n",
    "        self.Q = [None]*capacity\n",
    "    \n",
    "    def isempty(self):\n",
    "        return self.size==0\n",
    "    \n",
    "    def isfull(self):\n",
    "        return self.size == self.capacity\n",
    "    \n",
    "    def enqueue(self,item):\n",
    "        if self.isfull():\n",
    "            print(\"Queue is full\")\n",
    "            return \n",
    "        self.rear = (self.rear+1) % self.capacity\n",
    "        self.Q[self.rear] = item\n",
    "        self.size +=1\n",
    "        print(f\"{item} is enqueued\")\n",
    "        \n",
    "    def dequeue(self):\n",
    "        if self.isempty():\n",
    "            print(\"empty\")\n",
    "            return \n",
    "        self.front = (self.front+1) % self .capacity\n",
    "        self.size -=1\n",
    "    \n",
    "    def front_pointer(self):\n",
    "        if self.isempty():\n",
    "            print('Queue is empty')\n",
    "        print(\"Front item is\", self.Q[self.front])\n",
    "    \n",
    "    def rear_pointer(self):\n",
    "        if self.isempty():\n",
    "            print('Queue is empty')\n",
    "        print(\"Rear item is\",  self.Q[self.rear])\n"
   ]
  },
  {
   "cell_type": "code",
   "execution_count": 97,
   "id": "46e2a7e4",
   "metadata": {},
   "outputs": [],
   "source": [
    "queue = Queue(10)"
   ]
  },
  {
   "cell_type": "code",
   "execution_count": 98,
   "id": "daeefe72",
   "metadata": {},
   "outputs": [
    {
     "name": "stdout",
     "output_type": "stream",
     "text": [
      "4 is enqueued\n",
      "6 is enqueued\n",
      "44 is enqueued\n",
      "55 is enqueued\n",
      "101 is enqueued\n",
      "45 is enqueued\n",
      "845 is enqueued\n",
      "645 is enqueued\n",
      "236 is enqueued\n",
      "478 is enqueued\n"
     ]
    }
   ],
   "source": [
    "queue.enqueue(4)\n",
    "queue.enqueue(6)\n",
    "queue.enqueue(44)\n",
    "queue.enqueue(55)\n",
    "queue.enqueue(101)\n",
    "queue.enqueue(45)\n",
    "queue.enqueue(845)\n",
    "queue.enqueue(645)\n",
    "queue.enqueue(236)\n",
    "queue.enqueue(478)"
   ]
  },
  {
   "cell_type": "code",
   "execution_count": 99,
   "id": "6ac5e7d7",
   "metadata": {},
   "outputs": [
    {
     "data": {
      "text/plain": [
       "10"
      ]
     },
     "execution_count": 99,
     "metadata": {},
     "output_type": "execute_result"
    }
   ],
   "source": [
    "queue.size"
   ]
  },
  {
   "cell_type": "code",
   "execution_count": 100,
   "id": "ba179e4f",
   "metadata": {},
   "outputs": [
    {
     "name": "stdout",
     "output_type": "stream",
     "text": [
      "Queue is full\n"
     ]
    }
   ],
   "source": [
    "queue.enqueue(456)"
   ]
  },
  {
   "cell_type": "code",
   "execution_count": 101,
   "id": "837e616d",
   "metadata": {},
   "outputs": [
    {
     "data": {
      "text/plain": [
       "True"
      ]
     },
     "execution_count": 101,
     "metadata": {},
     "output_type": "execute_result"
    }
   ],
   "source": [
    "queue.isfull()"
   ]
  },
  {
   "cell_type": "code",
   "execution_count": 102,
   "id": "b9813e84",
   "metadata": {},
   "outputs": [],
   "source": [
    "queue.dequeue()"
   ]
  },
  {
   "cell_type": "code",
   "execution_count": 103,
   "id": "87ef7c7c",
   "metadata": {},
   "outputs": [
    {
     "data": {
      "text/plain": [
       "9"
      ]
     },
     "execution_count": 103,
     "metadata": {},
     "output_type": "execute_result"
    }
   ],
   "source": [
    "queue.size"
   ]
  },
  {
   "cell_type": "code",
   "execution_count": 104,
   "id": "6ccb7a7d",
   "metadata": {},
   "outputs": [
    {
     "data": {
      "text/plain": [
       "10"
      ]
     },
     "execution_count": 104,
     "metadata": {},
     "output_type": "execute_result"
    }
   ],
   "source": [
    "queue.capacity"
   ]
  },
  {
   "cell_type": "code",
   "execution_count": 105,
   "id": "7fba2696",
   "metadata": {},
   "outputs": [
    {
     "name": "stdout",
     "output_type": "stream",
     "text": [
      "Front item is 6\n",
      "Rear item is 478\n"
     ]
    }
   ],
   "source": [
    "queue.front_pointer()\n",
    "queue.rear_pointer()"
   ]
  },
  {
   "cell_type": "markdown",
   "id": "d3643b13",
   "metadata": {},
   "source": [
    "# Queue using list(built-in commands)"
   ]
  },
  {
   "cell_type": "code",
   "execution_count": 110,
   "id": "8d48bb37",
   "metadata": {},
   "outputs": [],
   "source": [
    "wmt_stk_price_queue = []"
   ]
  },
  {
   "cell_type": "code",
   "execution_count": 111,
   "id": "4727b39b",
   "metadata": {},
   "outputs": [],
   "source": [
    "wmt_stk_price_queue.insert(0,131)\n",
    "wmt_stk_price_queue.insert(0,133.75)\n",
    "wmt_stk_price_queue.insert(0,139.42)"
   ]
  },
  {
   "cell_type": "code",
   "execution_count": 112,
   "id": "22c17a10",
   "metadata": {},
   "outputs": [
    {
     "data": {
      "text/plain": [
       "131"
      ]
     },
     "execution_count": 112,
     "metadata": {},
     "output_type": "execute_result"
    }
   ],
   "source": [
    "wmt_stk_price_queue.pop()"
   ]
  },
  {
   "cell_type": "code",
   "execution_count": null,
   "id": "bad65e82",
   "metadata": {},
   "outputs": [],
   "source": []
  }
 ],
 "metadata": {
  "kernelspec": {
   "display_name": "Python 3 (ipykernel)",
   "language": "python",
   "name": "python3"
  },
  "language_info": {
   "codemirror_mode": {
    "name": "ipython",
    "version": 3
   },
   "file_extension": ".py",
   "mimetype": "text/x-python",
   "name": "python",
   "nbconvert_exporter": "python",
   "pygments_lexer": "ipython3",
   "version": "3.9.7"
  }
 },
 "nbformat": 4,
 "nbformat_minor": 5
}
