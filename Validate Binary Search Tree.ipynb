{
 "cells": [
  {
   "cell_type": "code",
   "execution_count": 9,
   "id": "bca26b8b",
   "metadata": {},
   "outputs": [],
   "source": [
    "#Definition for a binary tree node.\n",
    "class TreeNode:\n",
    "    def __init__(self, val=0, left=None, right=None):\n",
    "        self.val = val\n",
    "        self.left = left\n",
    "        self.right = right\n",
    "class Solution:\n",
    "    def isValidBST(self, root:[TreeNode]) -> bool:\n",
    "        def valid(root,left,right):\n",
    "            if not root:\n",
    "                return True\n",
    "            if not left < root.val < right:\n",
    "                return False    \n",
    "            left = valid(root.left,left,root.val) \n",
    "            right = valid(root.right,root.val,right)\n",
    "            return left and right\n",
    "        return valid(root,float(\"-inf\"),float(\"+inf\"))\n",
    "        "
   ]
  },
  {
   "cell_type": "code",
   "execution_count": 10,
   "id": "a0a918e0",
   "metadata": {},
   "outputs": [],
   "source": [
    "tree = TreeNode(5,TreeNode(1),TreeNode(4,TreeNode(3),TreeNode(6)))"
   ]
  },
  {
   "cell_type": "code",
   "execution_count": 11,
   "id": "d7f3caa0",
   "metadata": {},
   "outputs": [
    {
     "data": {
      "text/plain": [
       "False"
      ]
     },
     "execution_count": 11,
     "metadata": {},
     "output_type": "execute_result"
    }
   ],
   "source": [
    "ans = Solution()\n",
    "ans.isValidBST(tree)"
   ]
  },
  {
   "cell_type": "code",
   "execution_count": null,
   "id": "73458f2a",
   "metadata": {},
   "outputs": [],
   "source": []
  },
  {
   "cell_type": "code",
   "execution_count": null,
   "id": "6d402b32",
   "metadata": {},
   "outputs": [],
   "source": []
  }
 ],
 "metadata": {
  "kernelspec": {
   "display_name": "Python 3 (ipykernel)",
   "language": "python",
   "name": "python3"
  },
  "language_info": {
   "codemirror_mode": {
    "name": "ipython",
    "version": 3
   },
   "file_extension": ".py",
   "mimetype": "text/x-python",
   "name": "python",
   "nbconvert_exporter": "python",
   "pygments_lexer": "ipython3",
   "version": "3.9.7"
  }
 },
 "nbformat": 4,
 "nbformat_minor": 5
}
