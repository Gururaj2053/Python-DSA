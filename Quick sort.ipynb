{
 "cells": [
  {
   "cell_type": "code",
   "execution_count": 100,
   "id": "7a110ecc",
   "metadata": {},
   "outputs": [],
   "source": [
    "nums = [11,9,29,7,2,15,28]"
   ]
  },
  {
   "cell_type": "code",
   "execution_count": 101,
   "id": "e7d1fe09",
   "metadata": {},
   "outputs": [],
   "source": [
    "def swap(a,b,arr):\n",
    "    tmp = arr[a]\n",
    "    arr[a] = arr[b]\n",
    "    arr[b] = tmp"
   ]
  },
  {
   "cell_type": "code",
   "execution_count": 102,
   "id": "2f3221a0",
   "metadata": {},
   "outputs": [],
   "source": [
    "def partition(elements,start,end):\n",
    "    pviot_index = start\n",
    "    pviot = elements[pviot_index]\n",
    "    \n",
    "    while start < end:\n",
    "        while start<len(elements) and elements[start]<=pviot:\n",
    "            start +=1\n",
    "            #print(f'start:{start}')\n",
    "        while elements[end]>pviot:\n",
    "            end -=1\n",
    "            #print(f'end:{end}')\n",
    "        if start<end:\n",
    "            swap(start,end,elements)\n",
    "        #print(f'end:{end}')\n",
    "    print(elements)\n",
    "    swap(pviot_index,end,elements)\n",
    "    print(elements)\n",
    "    return end"
   ]
  },
  {
   "cell_type": "code",
   "execution_count": 103,
   "id": "9de61b7f",
   "metadata": {},
   "outputs": [],
   "source": [
    "def quick_sort(elements,start,end):\n",
    "    if start<end:\n",
    "        pi = partition(elements,start,end)\n",
    "        quick_sort(elements,start,pi-1)\n",
    "        quick_sort(elements,pi+1,end) "
   ]
  },
  {
   "cell_type": "code",
   "execution_count": 104,
   "id": "f3c9315b",
   "metadata": {},
   "outputs": [
    {
     "name": "stdout",
     "output_type": "stream",
     "text": [
      "[11, 9, 2, 7, 29, 15, 28]\n",
      "[7, 9, 2, 11, 29, 15, 28]\n",
      "[7, 2, 9, 11, 29, 15, 28]\n",
      "[2, 7, 9, 11, 29, 15, 28]\n",
      "[2, 7, 9, 11, 29, 15, 28]\n",
      "[2, 7, 9, 11, 28, 15, 29]\n",
      "[2, 7, 9, 11, 28, 15, 29]\n",
      "[2, 7, 9, 11, 15, 28, 29]\n"
     ]
    }
   ],
   "source": [
    "quick_sort(nums,0,len(nums)-1)"
   ]
  },
  {
   "cell_type": "code",
   "execution_count": 105,
   "id": "493ce517",
   "metadata": {},
   "outputs": [
    {
     "data": {
      "text/plain": [
       "[2, 7, 9, 11, 15, 28, 29]"
      ]
     },
     "execution_count": 105,
     "metadata": {},
     "output_type": "execute_result"
    }
   ],
   "source": [
    "nums"
   ]
  },
  {
   "cell_type": "code",
   "execution_count": null,
   "id": "bd5d9eb1",
   "metadata": {},
   "outputs": [],
   "source": []
  },
  {
   "cell_type": "code",
   "execution_count": null,
   "id": "3aceb91b",
   "metadata": {},
   "outputs": [],
   "source": []
  }
 ],
 "metadata": {
  "kernelspec": {
   "display_name": "Python 3 (ipykernel)",
   "language": "python",
   "name": "python3"
  },
  "language_info": {
   "codemirror_mode": {
    "name": "ipython",
    "version": 3
   },
   "file_extension": ".py",
   "mimetype": "text/x-python",
   "name": "python",
   "nbconvert_exporter": "python",
   "pygments_lexer": "ipython3",
   "version": "3.9.7"
  }
 },
 "nbformat": 4,
 "nbformat_minor": 5
}
