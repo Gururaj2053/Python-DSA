{
 "cells": [
  {
   "cell_type": "markdown",
   "id": "cf993086",
   "metadata": {},
   "source": [
    "# Solution 1"
   ]
  },
  {
   "cell_type": "code",
   "execution_count": 62,
   "id": "728f7482",
   "metadata": {},
   "outputs": [],
   "source": [
    "class TreeNode:\n",
    "    def __init__(self, val=0, left=None, right=None):\n",
    "        self.val = val\n",
    "        self.left = left\n",
    "        self.right = right"
   ]
  },
  {
   "cell_type": "code",
   "execution_count": 63,
   "id": "d5713ed9",
   "metadata": {},
   "outputs": [],
   "source": [
    "class Solution:\n",
    "    def __init__(self):\n",
    "        self.count = 0\n",
    "        self.var = 0\n",
    "    def kthSmallest(self, root:[TreeNode], k: int) -> int:\n",
    "        if not root:\n",
    "            return \n",
    "        self.kthSmallest(root.left,k)\n",
    "        self.count+=1\n",
    "        if k == self.count:\n",
    "            self.var = root.val\n",
    "        self.kthSmallest(root.right,k)\n",
    "        return self.var"
   ]
  },
  {
   "cell_type": "code",
   "execution_count": 64,
   "id": "11a49ee3",
   "metadata": {},
   "outputs": [],
   "source": [
    "tree = TreeNode(3,TreeNode(1,None,TreeNode(2)),TreeNode(5))"
   ]
  },
  {
   "cell_type": "code",
   "execution_count": 65,
   "id": "8b887a7d",
   "metadata": {},
   "outputs": [
    {
     "data": {
      "text/plain": [
       "5"
      ]
     },
     "execution_count": 65,
     "metadata": {},
     "output_type": "execute_result"
    }
   ],
   "source": [
    "ans = Solution()\n",
    "ans.kthSmallest(tree,4)"
   ]
  },
  {
   "cell_type": "markdown",
   "id": "41db6f40",
   "metadata": {},
   "source": [
    "# Solution 2"
   ]
  },
  {
   "cell_type": "code",
   "execution_count": 66,
   "id": "4386b07a",
   "metadata": {},
   "outputs": [],
   "source": [
    "class TreeNode:\n",
    "    def __init__(self, val=0, left=None, right=None):\n",
    "        self.val = val\n",
    "        self.left = left\n",
    "        self.right = right"
   ]
  },
  {
   "cell_type": "code",
   "execution_count": 98,
   "id": "ac338f1d",
   "metadata": {},
   "outputs": [],
   "source": [
    "class Solution:\n",
    "    def __init__(self):\n",
    "        self.store = []\n",
    "    def kthSmallest(self, root:[TreeNode], k: int):\n",
    "        if not root:return \n",
    "        self.kthSmallest(root.left,k)\n",
    "        self.store.append(root.val)\n",
    "        self.kthSmallest(root.right,k)\n",
    "        self.store= sorted(self.store)\n",
    "        if len(self.store)>=k:\n",
    "            return self.store[k-1]\n",
    "        "
   ]
  },
  {
   "cell_type": "code",
   "execution_count": 122,
   "id": "e5c98115",
   "metadata": {},
   "outputs": [],
   "source": [
    "class Solution:\n",
    "    def __init__(self):\n",
    "        self.store = []\n",
    "    def kthSmallest(self, root:[TreeNode], k: int):\n",
    "        def helper(root,k):\n",
    "            if not root:return \n",
    "            helper(root.left,k)\n",
    "            self.store.append(root.val)\n",
    "            helper(root.right,k)\n",
    "        helper(root,k)\n",
    "        print(self.store)\n",
    "        return sorted(self.store)[k-1]"
   ]
  },
  {
   "cell_type": "code",
   "execution_count": 123,
   "id": "55274185",
   "metadata": {},
   "outputs": [],
   "source": [
    "tree = TreeNode(3,TreeNode(1,None,TreeNode(2)),TreeNode(6))"
   ]
  },
  {
   "cell_type": "code",
   "execution_count": 124,
   "id": "0972d89e",
   "metadata": {},
   "outputs": [
    {
     "name": "stdout",
     "output_type": "stream",
     "text": [
      "[1, 2, 3, 6]\n"
     ]
    },
    {
     "data": {
      "text/plain": [
       "6"
      ]
     },
     "execution_count": 124,
     "metadata": {},
     "output_type": "execute_result"
    }
   ],
   "source": [
    "ans = Solution()\n",
    "ans.kthSmallest(tree,4)"
   ]
  },
  {
   "cell_type": "markdown",
   "id": "b2ce968d",
   "metadata": {},
   "source": [
    "# Solution 3 R"
   ]
  },
  {
   "cell_type": "code",
   "execution_count": 140,
   "id": "132a5a67",
   "metadata": {},
   "outputs": [],
   "source": [
    "class TreeNode:\n",
    "    def __init__(self, val=0, left=None, right=None):\n",
    "        self.val = val\n",
    "        self.left = left\n",
    "        self.right = right"
   ]
  },
  {
   "cell_type": "code",
   "execution_count": 141,
   "id": "ef928083",
   "metadata": {},
   "outputs": [],
   "source": [
    "class Solution:\n",
    "    def kthSmallest(self, root:[TreeNode], k: int):\n",
    "        n = 0 \n",
    "        stack = []\n",
    "        cur = root\n",
    "        \n",
    "        while cur or stack:\n",
    "            while cur:\n",
    "                stack.append(cur)\n",
    "                cur = cur.left\n",
    "            cur = stack.pop()\n",
    "            n+=1\n",
    "            if n==k:\n",
    "                return cur.val\n",
    "            cur = cur.right "
   ]
  },
  {
   "cell_type": "code",
   "execution_count": 142,
   "id": "1efbdd15",
   "metadata": {},
   "outputs": [],
   "source": [
    "tree = TreeNode(3,TreeNode(1,None,TreeNode(2)),TreeNode(6))"
   ]
  },
  {
   "cell_type": "code",
   "execution_count": 143,
   "id": "cba068b7",
   "metadata": {},
   "outputs": [
    {
     "data": {
      "text/plain": [
       "6"
      ]
     },
     "execution_count": 143,
     "metadata": {},
     "output_type": "execute_result"
    }
   ],
   "source": [
    "ans = Solution()\n",
    "ans.kthSmallest(tree,4)"
   ]
  }
 ],
 "metadata": {
  "kernelspec": {
   "display_name": "Python 3 (ipykernel)",
   "language": "python",
   "name": "python3"
  },
  "language_info": {
   "codemirror_mode": {
    "name": "ipython",
    "version": 3
   },
   "file_extension": ".py",
   "mimetype": "text/x-python",
   "name": "python",
   "nbconvert_exporter": "python",
   "pygments_lexer": "ipython3",
   "version": "3.9.7"
  }
 },
 "nbformat": 4,
 "nbformat_minor": 5
}
