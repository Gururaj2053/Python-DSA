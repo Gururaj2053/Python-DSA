{
 "cells": [
  {
   "cell_type": "code",
   "execution_count": 25,
   "id": "76501604",
   "metadata": {},
   "outputs": [],
   "source": [
    "nums= [0,1,2,1,2,0,1,2,0,1,0,1,2]"
   ]
  },
  {
   "cell_type": "code",
   "execution_count": 28,
   "id": "0b6da68f",
   "metadata": {},
   "outputs": [],
   "source": [
    "def threepointer(nums):\n",
    "    low = mid = 0\n",
    "    high = len(nums)-1\n",
    "    while mid<=high:\n",
    "        if nums[mid] == 0:\n",
    "            nums[low],nums[mid] = nums[mid],nums[low]\n",
    "            low+=1\n",
    "            mid+=1\n",
    "        elif nums[mid] == 1:\n",
    "            mid+=1\n",
    "        else:\n",
    "            nums[mid],nums[high] = nums[high],nums[mid]\n",
    "            high-=1\n",
    "    return nums"
   ]
  },
  {
   "cell_type": "code",
   "execution_count": 29,
   "id": "08d05199",
   "metadata": {},
   "outputs": [
    {
     "data": {
      "text/plain": [
       "[0, 0, 0, 0, 1, 1, 1, 1, 1, 2, 2, 2, 2]"
      ]
     },
     "execution_count": 29,
     "metadata": {},
     "output_type": "execute_result"
    }
   ],
   "source": [
    "threepointer(nums)"
   ]
  },
  {
   "cell_type": "code",
   "execution_count": null,
   "id": "ca36bc0f",
   "metadata": {},
   "outputs": [],
   "source": []
  },
  {
   "cell_type": "code",
   "execution_count": null,
   "id": "077d5f2a",
   "metadata": {},
   "outputs": [],
   "source": []
  }
 ],
 "metadata": {
  "kernelspec": {
   "display_name": "Python 3 (ipykernel)",
   "language": "python",
   "name": "python3"
  },
  "language_info": {
   "codemirror_mode": {
    "name": "ipython",
    "version": 3
   },
   "file_extension": ".py",
   "mimetype": "text/x-python",
   "name": "python",
   "nbconvert_exporter": "python",
   "pygments_lexer": "ipython3",
   "version": "3.9.7"
  }
 },
 "nbformat": 4,
 "nbformat_minor": 5
}
