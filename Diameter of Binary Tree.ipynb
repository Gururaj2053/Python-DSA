{
 "cells": [
  {
   "cell_type": "markdown",
   "id": "84167d93",
   "metadata": {},
   "source": [
    "# Recursive"
   ]
  },
  {
   "cell_type": "code",
   "execution_count": 13,
   "id": "3ceec860",
   "metadata": {},
   "outputs": [],
   "source": [
    "class TreeNode:\n",
    "    def __init__(self, val=0, left=None, right=None):\n",
    "        self.val = val\n",
    "        self.left = left\n",
    "        self.right = right\n",
    "class Solution:\n",
    "    def __init__(self,max=0):\n",
    "        self.max = max\n",
    "    def diameterOfBinaryTree(self, root:[TreeNode]) -> int:\n",
    "        def helper(root):\n",
    "            if not root:\n",
    "                return 0\n",
    "            left_depth = helper(root.left)\n",
    "            right_depth = helper(root.right)\n",
    "\n",
    "            self.max = max(self.max,left_depth+right_depth)\n",
    "            return 1 + max(left_depth,right_depth)\n",
    "        \n",
    "        helper(root)\n",
    "        return self.max"
   ]
  },
  {
   "cell_type": "code",
   "execution_count": 14,
   "id": "987131d4",
   "metadata": {},
   "outputs": [],
   "source": [
    "tree = TreeNode(1,TreeNode(2,TreeNode(4,TreeNode(12,TreeNode(14),TreeNode(15)),TreeNode(13)),TreeNode(5,TreeNode(6,TreeNode(8),TreeNode(9)),TreeNode(7,TreeNode(10),TreeNode(11)))),TreeNode(1))"
   ]
  },
  {
   "cell_type": "code",
   "execution_count": 15,
   "id": "2b781238",
   "metadata": {},
   "outputs": [],
   "source": [
    "def print_tree(root,level=0,prefix = 'Root:'):\n",
    "    print(' '*level*3+prefix+str(root.val))\n",
    "    if root.left:\n",
    "        print_tree(root.left,level+1,'--L:')\n",
    "    if root.right:\n",
    "        print_tree(root.right,level+1,'--R:')"
   ]
  },
  {
   "cell_type": "code",
   "execution_count": 16,
   "id": "d58d8d30",
   "metadata": {},
   "outputs": [
    {
     "name": "stdout",
     "output_type": "stream",
     "text": [
      "Root:1\n",
      "   --L:2\n",
      "      --L:4\n",
      "         --L:12\n",
      "            --L:14\n",
      "            --R:15\n",
      "         --R:13\n",
      "      --R:5\n",
      "         --L:6\n",
      "            --L:8\n",
      "            --R:9\n",
      "         --R:7\n",
      "            --L:10\n",
      "            --R:11\n",
      "   --R:1\n"
     ]
    }
   ],
   "source": [
    "print_tree(tree)"
   ]
  },
  {
   "cell_type": "code",
   "execution_count": 17,
   "id": "53ed92ed",
   "metadata": {},
   "outputs": [],
   "source": [
    "max_depth = Solution()"
   ]
  },
  {
   "cell_type": "code",
   "execution_count": 18,
   "id": "5a3cdf76",
   "metadata": {},
   "outputs": [
    {
     "data": {
      "text/plain": [
       "6"
      ]
     },
     "execution_count": 18,
     "metadata": {},
     "output_type": "execute_result"
    }
   ],
   "source": [
    "max_depth.diameterOfBinaryTree(tree)"
   ]
  },
  {
   "cell_type": "code",
   "execution_count": null,
   "id": "cb7579ef",
   "metadata": {},
   "outputs": [],
   "source": []
  }
 ],
 "metadata": {
  "kernelspec": {
   "display_name": "Python 3 (ipykernel)",
   "language": "python",
   "name": "python3"
  },
  "language_info": {
   "codemirror_mode": {
    "name": "ipython",
    "version": 3
   },
   "file_extension": ".py",
   "mimetype": "text/x-python",
   "name": "python",
   "nbconvert_exporter": "python",
   "pygments_lexer": "ipython3",
   "version": "3.9.7"
  }
 },
 "nbformat": 4,
 "nbformat_minor": 5
}
