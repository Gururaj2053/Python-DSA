{
 "cells": [
  {
   "cell_type": "markdown",
   "id": "41cc3ba3",
   "metadata": {},
   "source": [
    "## Time complexity - O(n^2) - worst &avg, O(n) - best case\n",
    "## Space complexity - O(1)"
   ]
  },
  {
   "cell_type": "code",
   "execution_count": 7,
   "id": "350e9f36",
   "metadata": {},
   "outputs": [],
   "source": [
    "nums = [5,7,8,9,4,11,6,14]"
   ]
  },
  {
   "cell_type": "code",
   "execution_count": 8,
   "id": "08b9ef6c",
   "metadata": {},
   "outputs": [],
   "source": [
    "def insertion_sort(nums):\n",
    "    for i in range(1,len(nums)):\n",
    "        prev_num = nums[i]\n",
    "        j = i-1\n",
    "        while j>=0 and nums[j]>prev_num:\n",
    "            nums[j+1]=nums[j]\n",
    "            j -=1\n",
    "        nums[j+1] = prev_num\n",
    "    return nums"
   ]
  },
  {
   "cell_type": "code",
   "execution_count": 9,
   "id": "b301367f",
   "metadata": {},
   "outputs": [
    {
     "data": {
      "text/plain": [
       "[4, 5, 6, 7, 8, 9, 11, 14]"
      ]
     },
     "execution_count": 9,
     "metadata": {},
     "output_type": "execute_result"
    }
   ],
   "source": [
    "insertion_sort(nums)"
   ]
  },
  {
   "cell_type": "code",
   "execution_count": null,
   "id": "9544912b",
   "metadata": {},
   "outputs": [],
   "source": []
  }
 ],
 "metadata": {
  "kernelspec": {
   "display_name": "Python 3 (ipykernel)",
   "language": "python",
   "name": "python3"
  },
  "language_info": {
   "codemirror_mode": {
    "name": "ipython",
    "version": 3
   },
   "file_extension": ".py",
   "mimetype": "text/x-python",
   "name": "python",
   "nbconvert_exporter": "python",
   "pygments_lexer": "ipython3",
   "version": "3.9.7"
  }
 },
 "nbformat": 4,
 "nbformat_minor": 5
}
