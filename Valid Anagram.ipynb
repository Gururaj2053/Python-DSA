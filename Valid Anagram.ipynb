{
 "cells": [
  {
   "cell_type": "markdown",
   "id": "b05d4635",
   "metadata": {},
   "source": [
    "## Solution 1"
   ]
  },
  {
   "cell_type": "code",
   "execution_count": 28,
   "id": "88350148",
   "metadata": {},
   "outputs": [],
   "source": [
    "def isAnagram(s: str, t: str) -> bool:\n",
    "    char = [i for i in s]\n",
    "    p = []\n",
    "    print(char)\n",
    "    for i in t:\n",
    "        if i in char:\n",
    "            print(char)\n",
    "            char.remove(i)\n",
    "        else:\n",
    "            return False\n",
    "    return len(char) == 0 "
   ]
  },
  {
   "cell_type": "markdown",
   "id": "48c03989",
   "metadata": {},
   "source": [
    "### Testcases :"
   ]
  },
  {
   "cell_type": "code",
   "execution_count": 30,
   "id": "f79cee57",
   "metadata": {},
   "outputs": [
    {
     "name": "stdout",
     "output_type": "stream",
     "text": [
      "['a', 'n', 'a', 'g', 'r', 'a', 'm']\n",
      "['a', 'n', 'a', 'g', 'r', 'a', 'm']\n",
      "['a', 'a', 'g', 'r', 'a', 'm']\n",
      "['a', 'g', 'r', 'a', 'm']\n",
      "['a', 'r', 'a', 'm']\n",
      "['r', 'a', 'm']\n",
      "['a', 'm']\n",
      "['m']\n"
     ]
    },
    {
     "data": {
      "text/plain": [
       "True"
      ]
     },
     "execution_count": 30,
     "metadata": {},
     "output_type": "execute_result"
    }
   ],
   "source": [
    "isAnagram(s = \"anagram\",t= \"nagaram\")"
   ]
  },
  {
   "cell_type": "code",
   "execution_count": 29,
   "id": "482ee023",
   "metadata": {
    "scrolled": false
   },
   "outputs": [
    {
     "name": "stdout",
     "output_type": "stream",
     "text": [
      "['a']\n",
      "['a']\n"
     ]
    },
    {
     "data": {
      "text/plain": [
       "True"
      ]
     },
     "execution_count": 29,
     "metadata": {},
     "output_type": "execute_result"
    }
   ],
   "source": [
    "isAnagram(s = \"a\",t= \"ab\")"
   ]
  },
  {
   "cell_type": "markdown",
   "id": "4bba94aa",
   "metadata": {},
   "source": [
    "## Solution 2"
   ]
  },
  {
   "cell_type": "code",
   "execution_count": 66,
   "id": "9d45c851",
   "metadata": {},
   "outputs": [],
   "source": [
    "def is_Anagram(s,t):\n",
    "    if len(s)!=len(t):\n",
    "        return False\n",
    "    if s and t == None:\n",
    "        return False\n",
    "    for index in set(s):\n",
    "        if s.count(index) != t.count(index):\n",
    "            return False\n",
    "        \n",
    "    return True"
   ]
  },
  {
   "cell_type": "markdown",
   "id": "a0475d86",
   "metadata": {},
   "source": [
    "### Testcases"
   ]
  },
  {
   "cell_type": "code",
   "execution_count": 67,
   "id": "d1c0e3b9",
   "metadata": {},
   "outputs": [
    {
     "data": {
      "text/plain": [
       "True"
      ]
     },
     "execution_count": 67,
     "metadata": {},
     "output_type": "execute_result"
    }
   ],
   "source": [
    "is_Anagram(s = \"anagram\",t= \"nagaram\")"
   ]
  },
  {
   "cell_type": "code",
   "execution_count": 68,
   "id": "eb8b6b82",
   "metadata": {},
   "outputs": [],
   "source": [
    " def isAnagram(s, t):\n",
    "        if len(s) != len(t):\n",
    "            return False\n",
    "        for idx in set(s):\n",
    "            if s.count(idx) != t.count(idx):\n",
    "                return False\n",
    "        return True "
   ]
  },
  {
   "cell_type": "code",
   "execution_count": 69,
   "id": "8e345433",
   "metadata": {},
   "outputs": [
    {
     "data": {
      "text/plain": [
       "True"
      ]
     },
     "execution_count": 69,
     "metadata": {},
     "output_type": "execute_result"
    }
   ],
   "source": [
    "isAnagram(s = \"anagram\",t= \"nagaram\")"
   ]
  },
  {
   "cell_type": "code",
   "execution_count": null,
   "id": "f281dcf3",
   "metadata": {},
   "outputs": [],
   "source": []
  }
 ],
 "metadata": {
  "kernelspec": {
   "display_name": "Python 3 (ipykernel)",
   "language": "python",
   "name": "python3"
  },
  "language_info": {
   "codemirror_mode": {
    "name": "ipython",
    "version": 3
   },
   "file_extension": ".py",
   "mimetype": "text/x-python",
   "name": "python",
   "nbconvert_exporter": "python",
   "pygments_lexer": "ipython3",
   "version": "3.9.7"
  }
 },
 "nbformat": 4,
 "nbformat_minor": 5
}
