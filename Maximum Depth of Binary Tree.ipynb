{
 "cells": [
  {
   "cell_type": "markdown",
   "id": "5d5dd5cd",
   "metadata": {},
   "source": [
    "# Solution 1 DFS"
   ]
  },
  {
   "cell_type": "code",
   "execution_count": 42,
   "id": "68138701",
   "metadata": {},
   "outputs": [],
   "source": [
    "class TreeNode:\n",
    "    def __init__(self, val=0, left=None, right=None):\n",
    "        self.val = val\n",
    "        self.left = left\n",
    "        self.right = right\n",
    "\n",
    "class Solution:\n",
    "    def __init__(self):\n",
    "        self.counter_left = 0\n",
    "        self.counter_right = 0\n",
    "    \n",
    "    def maxDepth(self, root: TreeNode) -> int:\n",
    "        if root is None:\n",
    "            return 0 \n",
    "        else:\n",
    "            left_depth = self.maxDepth(root.left)\n",
    "            right_depth = self.maxDepth(root.right)\n",
    "        return max(left_depth, right_depth) + 1 \n",
    "    \n",
    "    def print_tree(self,root,level=0,prefix = 'Root'):\n",
    "        if root is not None:\n",
    "            print(' '*level*3+prefix+str(root.val))\n",
    "            self.print_tree(root.left,level+1,prefix = '--L:')\n",
    "            self.print_tree(root.right,level+1,prefix = '---R:')"
   ]
  },
  {
   "cell_type": "code",
   "execution_count": 43,
   "id": "71bd673d",
   "metadata": {},
   "outputs": [],
   "source": [
    "root = TreeNode(1,TreeNode(2,TreeNode(4),None),TreeNode(3,None,TreeNode(7)))                                                "
   ]
  },
  {
   "cell_type": "code",
   "execution_count": 44,
   "id": "d4f8b919",
   "metadata": {},
   "outputs": [],
   "source": [
    "solution = Solution()"
   ]
  },
  {
   "cell_type": "code",
   "execution_count": 45,
   "id": "fa729063",
   "metadata": {},
   "outputs": [
    {
     "data": {
      "text/plain": [
       "3"
      ]
     },
     "execution_count": 45,
     "metadata": {},
     "output_type": "execute_result"
    }
   ],
   "source": [
    "solution.maxDepth(root)"
   ]
  },
  {
   "cell_type": "code",
   "execution_count": 47,
   "id": "f2847a47",
   "metadata": {},
   "outputs": [
    {
     "name": "stdout",
     "output_type": "stream",
     "text": [
      "Root1\n",
      "   --L:2\n",
      "      --L:4\n",
      "   ---R:3\n",
      "      ---R:7\n"
     ]
    }
   ],
   "source": [
    "solution.print_tree(root)"
   ]
  },
  {
   "cell_type": "markdown",
   "id": "54ebbb2e",
   "metadata": {},
   "source": [
    "# Soluiton 2 DFS using deque"
   ]
  },
  {
   "cell_type": "code",
   "execution_count": 51,
   "id": "a754b0b5",
   "metadata": {},
   "outputs": [],
   "source": [
    "from collections import deque\n",
    "class TreeNode:\n",
    "    def __init__(self, val=0, left=None, right=None):\n",
    "        self.val = val\n",
    "        self.left = left\n",
    "        self.right = right\n",
    "\n",
    "def maxDepth(root):\n",
    "    if not root:\n",
    "        return 0 \n",
    "    \n",
    "    queue = deque([(root, 1)])  \n",
    "    \n",
    "    while queue:\n",
    "        node, depth = queue.popleft() \n",
    "        if node.left:\n",
    "            queue.append((node.left, depth + 1))\n",
    "        if node.right:\n",
    "            queue.append((node.right, depth + 1))\n",
    "    return depth"
   ]
  },
  {
   "cell_type": "markdown",
   "id": "4ddec61c",
   "metadata": {},
   "source": [
    "# Solution 3 DFS using stack"
   ]
  },
  {
   "cell_type": "code",
   "execution_count": 52,
   "id": "c9361654",
   "metadata": {},
   "outputs": [],
   "source": [
    "class TreeNode:\n",
    "    def __init__(self, val=0, left=None, right=None):\n",
    "        self.val = val\n",
    "        self.left = left\n",
    "        self.right = right\n",
    "\n",
    "def maxDepth(root):\n",
    "    if not root:\n",
    "        return 0 \n",
    "    stack = [(root, 1)] \n",
    "    max_depth = 0\n",
    "    while stack:\n",
    "        node, depth = stack.pop()\n",
    "        max_depth = max(max_depth, depth)\n",
    "        if node.left:\n",
    "            stack.append((node.left, depth + 1))\n",
    "        if node.right:\n",
    "            stack.append((node.right, depth + 1))\n",
    "    return max_depth"
   ]
  },
  {
   "cell_type": "code",
   "execution_count": null,
   "id": "64532267",
   "metadata": {},
   "outputs": [],
   "source": [
    "#"
   ]
  }
 ],
 "metadata": {
  "kernelspec": {
   "display_name": "Python 3 (ipykernel)",
   "language": "python",
   "name": "python3"
  },
  "language_info": {
   "codemirror_mode": {
    "name": "ipython",
    "version": 3
   },
   "file_extension": ".py",
   "mimetype": "text/x-python",
   "name": "python",
   "nbconvert_exporter": "python",
   "pygments_lexer": "ipython3",
   "version": "3.9.7"
  }
 },
 "nbformat": 4,
 "nbformat_minor": 5
}
