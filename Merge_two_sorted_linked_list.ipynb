{
 "cells": [
  {
   "cell_type": "code",
   "execution_count": 1,
   "id": "e432f8a3",
   "metadata": {},
   "outputs": [],
   "source": [
    "class ListNode:\n",
    "    def __init__(self,val=0,next=None):\n",
    "        self.val = val\n",
    "        self.next = next"
   ]
  },
  {
   "cell_type": "code",
   "execution_count": 2,
   "id": "8c01a934",
   "metadata": {},
   "outputs": [],
   "source": [
    "def merge(l1,l2):\n",
    "    dummy = ListNode()  \n",
    "    current = dummy \n",
    "    \n",
    "    while l1 and l2:\n",
    "        if l1.val < l2.val:\n",
    "            current.next = l1\n",
    "            l1 = l1.next\n",
    "        else:\n",
    "            current.next = l2\n",
    "            l2 = l2.next\n",
    "        current = current.next\n",
    "        \n",
    "    if l1:current.next = l1\n",
    "    elif l2:current.next = l2\n",
    "    \n",
    "    return dummy.next"
   ]
  },
  {
   "cell_type": "code",
   "execution_count": 3,
   "id": "c501002c",
   "metadata": {},
   "outputs": [],
   "source": [
    "def print_linked_list(head):\n",
    "    current = head\n",
    "    while current:\n",
    "        print(current.val, end=\" -> \")\n",
    "        current = current.next\n",
    "    print(\"None\")"
   ]
  },
  {
   "cell_type": "code",
   "execution_count": 4,
   "id": "ef454c2c",
   "metadata": {},
   "outputs": [],
   "source": [
    "list1 = ListNode(1, ListNode(3, ListNode(5)))\n",
    "list2 = ListNode(2, ListNode(4, ListNode(6)))"
   ]
  },
  {
   "cell_type": "code",
   "execution_count": 6,
   "id": "96a05fe5",
   "metadata": {},
   "outputs": [
    {
     "name": "stdout",
     "output_type": "stream",
     "text": [
      "1 -> 3 -> 5 -> None\n",
      "2 -> 4 -> 6 -> None\n"
     ]
    }
   ],
   "source": [
    "print_linked_list(list1)\n",
    "print_linked_list(list2)"
   ]
  },
  {
   "cell_type": "code",
   "execution_count": 7,
   "id": "b2309edd",
   "metadata": {},
   "outputs": [],
   "source": [
    "merged = merge(list1,list2)"
   ]
  },
  {
   "cell_type": "code",
   "execution_count": 22,
   "id": "b4ce8a25",
   "metadata": {},
   "outputs": [
    {
     "name": "stdout",
     "output_type": "stream",
     "text": [
      "1 -> 2 -> 3 -> 4 -> 5 -> 6 -> None\n"
     ]
    }
   ],
   "source": [
    "print_linked_list(merged)"
   ]
  },
  {
   "cell_type": "code",
   "execution_count": null,
   "id": "f1766f0c",
   "metadata": {},
   "outputs": [],
   "source": []
  }
 ],
 "metadata": {
  "kernelspec": {
   "display_name": "Python 3 (ipykernel)",
   "language": "python",
   "name": "python3"
  },
  "language_info": {
   "codemirror_mode": {
    "name": "ipython",
    "version": 3
   },
   "file_extension": ".py",
   "mimetype": "text/x-python",
   "name": "python",
   "nbconvert_exporter": "python",
   "pygments_lexer": "ipython3",
   "version": "3.9.7"
  }
 },
 "nbformat": 4,
 "nbformat_minor": 5
}
