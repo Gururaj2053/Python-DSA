{
 "cells": [
  {
   "cell_type": "markdown",
   "id": "8565e291",
   "metadata": {},
   "source": [
    "## Time complexity : O(n^2) - worst &avg, O(n) - if array already sorted \n",
    "## Space complexity : O(1)\n",
    "## "
   ]
  },
  {
   "cell_type": "code",
   "execution_count": 34,
   "id": "48fce1da",
   "metadata": {},
   "outputs": [],
   "source": [
    "nums = [8,7,9,6,4,5,2,3,1]"
   ]
  },
  {
   "cell_type": "code",
   "execution_count": 35,
   "id": "da1a9021",
   "metadata": {},
   "outputs": [],
   "source": [
    "def bubble_sort(nums):\n",
    "    for i in range(len(nums)-1,0,-1):\n",
    "        for j in range(i):\n",
    "            if nums[j]>nums[j+1]:\n",
    "                nums[j],nums[j+1]=nums[j+1],nums[j]\n",
    "    print(nums)"
   ]
  },
  {
   "cell_type": "code",
   "execution_count": 36,
   "id": "673d032d",
   "metadata": {},
   "outputs": [
    {
     "name": "stdout",
     "output_type": "stream",
     "text": [
      "[1, 2, 3, 4, 5, 6, 7, 8, 9]\n"
     ]
    }
   ],
   "source": [
    "bubble_sort(nums)"
   ]
  },
  {
   "cell_type": "code",
   "execution_count": 37,
   "id": "ae0f1fbc",
   "metadata": {},
   "outputs": [],
   "source": [
    "a=[10,4,2,3]\n",
    "b=a"
   ]
  },
  {
   "cell_type": "code",
   "execution_count": 38,
   "id": "72dd6c2c",
   "metadata": {},
   "outputs": [],
   "source": [
    "a.append(11)"
   ]
  },
  {
   "cell_type": "code",
   "execution_count": 39,
   "id": "e2b61ddd",
   "metadata": {},
   "outputs": [
    {
     "data": {
      "text/plain": [
       "[10, 4, 2, 3, 11]"
      ]
     },
     "execution_count": 39,
     "metadata": {},
     "output_type": "execute_result"
    }
   ],
   "source": [
    "b"
   ]
  }
 ],
 "metadata": {
  "kernelspec": {
   "display_name": "Python 3 (ipykernel)",
   "language": "python",
   "name": "python3"
  },
  "language_info": {
   "codemirror_mode": {
    "name": "ipython",
    "version": 3
   },
   "file_extension": ".py",
   "mimetype": "text/x-python",
   "name": "python",
   "nbconvert_exporter": "python",
   "pygments_lexer": "ipython3",
   "version": "3.9.7"
  }
 },
 "nbformat": 4,
 "nbformat_minor": 5
}
