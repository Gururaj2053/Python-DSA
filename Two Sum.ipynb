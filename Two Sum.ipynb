{
 "cells": [
  {
   "cell_type": "code",
   "execution_count": 16,
   "id": "a4cecbb7",
   "metadata": {},
   "outputs": [],
   "source": [
    "nums =[2,7,11,15]"
   ]
  },
  {
   "cell_type": "code",
   "execution_count": 19,
   "id": "f3072425",
   "metadata": {},
   "outputs": [],
   "source": [
    "def twosum(nums :list[int], target: int) -> list[int]:\n",
    "    d = {}\n",
    "    for i, j in enumerate(nums):\n",
    "        r = target - j\n",
    "        if r in d: return [d[r], i]\n",
    "        d[j] = i\n",
    "        print(d)"
   ]
  },
  {
   "cell_type": "code",
   "execution_count": 20,
   "id": "c0211d4f",
   "metadata": {},
   "outputs": [
    {
     "name": "stdout",
     "output_type": "stream",
     "text": [
      "{2: 0}\n"
     ]
    },
    {
     "data": {
      "text/plain": [
       "[0, 1]"
      ]
     },
     "execution_count": 20,
     "metadata": {},
     "output_type": "execute_result"
    }
   ],
   "source": [
    "twosum(nums,9)"
   ]
  },
  {
   "cell_type": "code",
   "execution_count": null,
   "id": "12098021",
   "metadata": {},
   "outputs": [],
   "source": []
  }
 ],
 "metadata": {
  "kernelspec": {
   "display_name": "Python 3 (ipykernel)",
   "language": "python",
   "name": "python3"
  },
  "language_info": {
   "codemirror_mode": {
    "name": "ipython",
    "version": 3
   },
   "file_extension": ".py",
   "mimetype": "text/x-python",
   "name": "python",
   "nbconvert_exporter": "python",
   "pygments_lexer": "ipython3",
   "version": "3.9.7"
  }
 },
 "nbformat": 4,
 "nbformat_minor": 5
}
