{
 "cells": [
  {
   "cell_type": "code",
   "execution_count": 240,
   "id": "b4bd8f23",
   "metadata": {},
   "outputs": [],
   "source": [
    "class MaxHeap:\n",
    "    def __init__(self, maxsize):\n",
    "        self.maxsize = maxsize\n",
    "        self.arr = [None]*maxsize\n",
    "        self.heapsize = 0\n",
    "        \n",
    "    def parent(self,i):\n",
    "        return (i-1)//2\n",
    "    \n",
    "    def lchild(self,i):\n",
    "        return (2*i+1)\n",
    "    \n",
    "    def rchild(self,i):\n",
    "        return (2*i+2)\n",
    "\n",
    "    def insertKey(self, x):\n",
    "        if self.heapsize == self.maxsize:\n",
    "            print(\"\\nOverflow: Could not insertKey\\n\")\n",
    "            return\n",
    "        else:\n",
    "            i = self.heapsize\n",
    "            self.arr[i] = x\n",
    "            self.heapsize += 1\n",
    "            \n",
    "            while i>0:\n",
    "                p = self.parent(i)\n",
    "                if self.arr[p] < self.arr[i]:\n",
    "                    self.arr[p],self.arr[i] = self.arr[i],self.arr[p]\n",
    "                    i = p\n",
    "                else:\n",
    "                    break\n",
    "            return self.arr\n",
    "    \n",
    "    \n",
    "    def RemoveMax(self): #Removes only root node\n",
    "        if self.heapsize <0:\n",
    "            return\n",
    "        if self.heapsize==1:\n",
    "            root = self.arr[0]\n",
    "            self.heapsise -=1\n",
    "            return root\n",
    "        root = self.arr[0]\n",
    "        self.arr[0] = self.arr[self.heapsize-1]\n",
    "        self.arr.pop()\n",
    "        self.heapsize -=1\n",
    "        i = 0\n",
    "        print(f'heapssize: {self.heapsize}')\n",
    "        while i<=self.heapsize:\n",
    "            l = self.lchild(i)\n",
    "            r = self.rchild(i)\n",
    "            print(l,r)\n",
    "            if l and r > self.heapsize:\n",
    "                break\n",
    "            if self.arr[l] > self.arr[i]:\n",
    "                largest = l\n",
    "            if self.arr[r] > self.arr[largest]:\n",
    "                largest = r\n",
    "            if largest!=i:\n",
    "                self.arr[i],self.arr[largest] = self.arr[largest],self.arr[i]\n",
    "                i = largest\n",
    "            else:\n",
    "                break\n",
    "        return print(f'Root Node:removed({root})')\n",
    "        "
   ]
  },
  {
   "cell_type": "code",
   "execution_count": 241,
   "id": "bd0e164f",
   "metadata": {},
   "outputs": [
    {
     "data": {
      "text/plain": [
       "[33, None, None, None]"
      ]
     },
     "execution_count": 241,
     "metadata": {},
     "output_type": "execute_result"
    }
   ],
   "source": [
    "A = MaxHeap(4)\n",
    "A.insertKey(33)"
   ]
  },
  {
   "cell_type": "code",
   "execution_count": 242,
   "id": "4e55dc5c",
   "metadata": {},
   "outputs": [
    {
     "data": {
      "text/plain": [
       "[40, 36, 34, 33]"
      ]
     },
     "execution_count": 242,
     "metadata": {},
     "output_type": "execute_result"
    }
   ],
   "source": [
    "A.insertKey(34)\n",
    "A.insertKey(36)\n",
    "A.insertKey(40)"
   ]
  },
  {
   "cell_type": "code",
   "execution_count": 243,
   "id": "aa37b4b0",
   "metadata": {},
   "outputs": [
    {
     "name": "stdout",
     "output_type": "stream",
     "text": [
      "\n",
      "Overflow: Could not insertKey\n",
      "\n"
     ]
    }
   ],
   "source": [
    "A.insertKey(50)"
   ]
  },
  {
   "cell_type": "code",
   "execution_count": 244,
   "id": "2a28d50e",
   "metadata": {},
   "outputs": [
    {
     "name": "stdout",
     "output_type": "stream",
     "text": [
      "heapssize: 3\n",
      "1 2\n",
      "3 4\n",
      "Root Node:removed(40)\n"
     ]
    }
   ],
   "source": [
    "A.RemoveMax()"
   ]
  },
  {
   "cell_type": "code",
   "execution_count": 245,
   "id": "f3b8df11",
   "metadata": {},
   "outputs": [
    {
     "data": {
      "text/plain": [
       "[36, 33, 34]"
      ]
     },
     "execution_count": 245,
     "metadata": {},
     "output_type": "execute_result"
    }
   ],
   "source": [
    "A.arr"
   ]
  },
  {
   "cell_type": "code",
   "execution_count": null,
   "id": "26664ce0",
   "metadata": {},
   "outputs": [],
   "source": []
  },
  {
   "cell_type": "code",
   "execution_count": null,
   "id": "ed8c566e",
   "metadata": {},
   "outputs": [],
   "source": []
  }
 ],
 "metadata": {
  "kernelspec": {
   "display_name": "Python 3 (ipykernel)",
   "language": "python",
   "name": "python3"
  },
  "language_info": {
   "codemirror_mode": {
    "name": "ipython",
    "version": 3
   },
   "file_extension": ".py",
   "mimetype": "text/x-python",
   "name": "python",
   "nbconvert_exporter": "python",
   "pygments_lexer": "ipython3",
   "version": "3.9.7"
  }
 },
 "nbformat": 4,
 "nbformat_minor": 5
}
