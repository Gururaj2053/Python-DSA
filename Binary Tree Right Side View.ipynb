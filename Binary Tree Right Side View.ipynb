{
 "cells": [
  {
   "cell_type": "markdown",
   "id": "7eca80ec",
   "metadata": {},
   "source": [
    "# Solution 1(recursive)"
   ]
  },
  {
   "cell_type": "code",
   "execution_count": 36,
   "id": "fc2948c6",
   "metadata": {},
   "outputs": [],
   "source": [
    "class TreeNode:\n",
    "    def __init__(self,val,left=None,right = None):\n",
    "        self.val = val\n",
    "        self.left = left\n",
    "        self.right = right"
   ]
  },
  {
   "cell_type": "code",
   "execution_count": 37,
   "id": "aae66bfc",
   "metadata": {},
   "outputs": [],
   "source": [
    "class Solution:\n",
    "    def __init__(self):\n",
    "        self.result =[]\n",
    "    def rightSideView(self, root:[TreeNode],level=0) -> list[int]:\n",
    "        if not root:\n",
    "            return\n",
    "        if len(self.result)==level:\n",
    "            self.result.append(root.val)\n",
    "        self.rightSideView(root.right,level+1)\n",
    "        self.rightSideView(root.left,level+1)\n",
    "        return self.result"
   ]
  },
  {
   "cell_type": "code",
   "execution_count": 38,
   "id": "c42e6915",
   "metadata": {},
   "outputs": [],
   "source": [
    "#tree = TreeNode(1,TreeNode(2,TreeNode(4,TreeNode(8),TreeNode(9)),TreeNode(5)),TreeNode(3,TreeNode(6),TreeNode(7)))"
   ]
  },
  {
   "cell_type": "code",
   "execution_count": 39,
   "id": "ec9768c1",
   "metadata": {},
   "outputs": [],
   "source": [
    "tree = TreeNode(1,TreeNode(2,TreeNode(4)),TreeNode(3))"
   ]
  },
  {
   "cell_type": "code",
   "execution_count": 40,
   "id": "f01db024",
   "metadata": {},
   "outputs": [
    {
     "data": {
      "text/plain": [
       "[1, 3, 4]"
      ]
     },
     "execution_count": 40,
     "metadata": {},
     "output_type": "execute_result"
    }
   ],
   "source": [
    "ans = Solution()\n",
    "ans.rightSideView(tree,level=0)"
   ]
  },
  {
   "cell_type": "markdown",
   "id": "a833da8f",
   "metadata": {},
   "source": [
    "# Solution 2 (iterative)"
   ]
  },
  {
   "cell_type": "code",
   "execution_count": 1,
   "id": "1c83dfce",
   "metadata": {},
   "outputs": [],
   "source": [
    "class TreeNode:\n",
    "    def __init__(self,val,left=None,right = None):\n",
    "        self.val = val\n",
    "        self.left = left\n",
    "        self.right = right"
   ]
  },
  {
   "cell_type": "code",
   "execution_count": 42,
   "id": "a5ddd521",
   "metadata": {},
   "outputs": [],
   "source": [
    "class Solution:\n",
    "    def rightSideView(self,root):\n",
    "        queue = [root]\n",
    "        result = []\n",
    "        while queue:\n",
    "            for i in range(len(queue)):\n",
    "                root = queue.pop(0)\n",
    "                if not root:\n",
    "                    continue\n",
    "                if i ==0:\n",
    "                    result.append(root.val)\n",
    "                if root.right:\n",
    "                    queue.append(root.right)\n",
    "                if root.left:\n",
    "                    queue.append(root.left)\n",
    "        return result"
   ]
  },
  {
   "cell_type": "code",
   "execution_count": 43,
   "id": "c02769c8",
   "metadata": {},
   "outputs": [],
   "source": [
    "tree = TreeNode(1,TreeNode(2,TreeNode(4)),TreeNode(3))"
   ]
  },
  {
   "cell_type": "code",
   "execution_count": 44,
   "id": "69ddf771",
   "metadata": {},
   "outputs": [
    {
     "data": {
      "text/plain": [
       "[1, 3, 4]"
      ]
     },
     "execution_count": 44,
     "metadata": {},
     "output_type": "execute_result"
    }
   ],
   "source": [
    "ans = Solution()\n",
    "ans.rightSideView(tree)"
   ]
  }
 ],
 "metadata": {
  "kernelspec": {
   "display_name": "Python 3 (ipykernel)",
   "language": "python",
   "name": "python3"
  },
  "language_info": {
   "codemirror_mode": {
    "name": "ipython",
    "version": 3
   },
   "file_extension": ".py",
   "mimetype": "text/x-python",
   "name": "python",
   "nbconvert_exporter": "python",
   "pygments_lexer": "ipython3",
   "version": "3.9.7"
  }
 },
 "nbformat": 4,
 "nbformat_minor": 5
}
