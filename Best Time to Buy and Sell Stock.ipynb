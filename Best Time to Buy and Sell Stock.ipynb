{
 "cells": [
  {
   "cell_type": "markdown",
   "id": "3ab66874",
   "metadata": {},
   "source": [
    "# Solution 1"
   ]
  },
  {
   "cell_type": "code",
   "execution_count": 14,
   "id": "c9b74e73",
   "metadata": {},
   "outputs": [],
   "source": [
    "prices =[7,1,5,3,6,4]"
   ]
  },
  {
   "cell_type": "code",
   "execution_count": 15,
   "id": "88e5a282",
   "metadata": {},
   "outputs": [],
   "source": [
    "def max_profit(prices):\n",
    "    maxprofit = 0\n",
    "    for i in range(0,len(prices)):\n",
    "        for j in range(i+1,len(prices)):\n",
    "            diff = prices[j]-prices[i]\n",
    "            if diff>maxprofit:\n",
    "                maxprofit = diff\n",
    "    if maxprofit>0:\n",
    "        return maxprofit\n",
    "    else:\n",
    "        return 0"
   ]
  },
  {
   "cell_type": "code",
   "execution_count": 16,
   "id": "8e5f1ffe",
   "metadata": {},
   "outputs": [
    {
     "data": {
      "text/plain": [
       "5"
      ]
     },
     "execution_count": 16,
     "metadata": {},
     "output_type": "execute_result"
    }
   ],
   "source": [
    "max_profit(prices)"
   ]
  },
  {
   "cell_type": "markdown",
   "id": "79534607",
   "metadata": {},
   "source": [
    "### Testcases"
   ]
  },
  {
   "cell_type": "code",
   "execution_count": 17,
   "id": "8248dd55",
   "metadata": {},
   "outputs": [
    {
     "data": {
      "text/plain": [
       "5"
      ]
     },
     "execution_count": 17,
     "metadata": {},
     "output_type": "execute_result"
    }
   ],
   "source": [
    "max_profit(prices)"
   ]
  },
  {
   "cell_type": "markdown",
   "id": "67c3f325",
   "metadata": {},
   "source": [
    "# Solution 2"
   ]
  },
  {
   "cell_type": "code",
   "execution_count": 18,
   "id": "b7f2df28",
   "metadata": {},
   "outputs": [],
   "source": [
    "def maxProfit(prices):\n",
    "    min_price = prices[0]\n",
    "    max_profit = 0\n",
    "        \n",
    "    for price in prices[1:]:\n",
    "        max_profit = max(max_profit, price - min_price)\n",
    "        min_price = min(min_price, price)\n",
    "            \n",
    "    return max_profit"
   ]
  },
  {
   "cell_type": "code",
   "execution_count": 19,
   "id": "01441c9f",
   "metadata": {},
   "outputs": [
    {
     "data": {
      "text/plain": [
       "5"
      ]
     },
     "execution_count": 19,
     "metadata": {},
     "output_type": "execute_result"
    }
   ],
   "source": [
    " maxProfit(prices)"
   ]
  },
  {
   "cell_type": "markdown",
   "id": "02ba724d",
   "metadata": {},
   "source": [
    "### without max and min "
   ]
  },
  {
   "cell_type": "code",
   "execution_count": 20,
   "id": "cc6e1acc",
   "metadata": {},
   "outputs": [],
   "source": [
    "def maxProfit(prices: list[int]) -> int:\n",
    "    mostProfit = 0\n",
    "    lowestSoFar = prices[0]\n",
    "\n",
    "    for price in prices:\n",
    "        ifSell = price - lowestSoFar\n",
    "        if ifSell > mostProfit:\n",
    "            mostProfit = ifSell\n",
    "\n",
    "        if price < lowestSoFar:\n",
    "            lowestSoFar = price\n",
    "\n",
    "    return mostProfit"
   ]
  },
  {
   "cell_type": "code",
   "execution_count": null,
   "id": "4c3a933e",
   "metadata": {},
   "outputs": [],
   "source": []
  }
 ],
 "metadata": {
  "kernelspec": {
   "display_name": "Python 3 (ipykernel)",
   "language": "python",
   "name": "python3"
  },
  "language_info": {
   "codemirror_mode": {
    "name": "ipython",
    "version": 3
   },
   "file_extension": ".py",
   "mimetype": "text/x-python",
   "name": "python",
   "nbconvert_exporter": "python",
   "pygments_lexer": "ipython3",
   "version": "3.9.7"
  }
 },
 "nbformat": 4,
 "nbformat_minor": 5
}
