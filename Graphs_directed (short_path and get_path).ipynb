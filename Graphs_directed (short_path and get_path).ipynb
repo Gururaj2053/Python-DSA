{
 "cells": [
  {
   "cell_type": "code",
   "execution_count": 37,
   "id": "7f7a78a2",
   "metadata": {},
   "outputs": [],
   "source": [
    "class Graph:\n",
    "    def __init__(self,edges):\n",
    "        self.edges = edges\n",
    "        self.dict = {}\n",
    "        for start,end in self.edges:\n",
    "            if start in self.dict:\n",
    "                self.dict[start].append(end)\n",
    "            else:\n",
    "                self.dict[start] = [end]\n",
    "        print(\"graph_dict:\",self.dict)\n",
    "        \n",
    "    def get_path(self,start,end,path = []):\n",
    "        path = path + [start]\n",
    "        if start == end:\n",
    "            return [path]\n",
    "        if start not in self.dict:\n",
    "            return []\n",
    "        paths = []\n",
    "        for node in self.dict[start]:\n",
    "            if node not in path:\n",
    "                print(node)\n",
    "                inter_path = self.get_path(node,end,path)\n",
    "                for p in inter_path:\n",
    "                    print(p)\n",
    "                    paths.append(p)\n",
    "                    #print(paths)\n",
    "        return paths\n",
    "    \n",
    "    def shortest_path(self,start,end,path = []):\n",
    "        path = path + [start]\n",
    "        \n",
    "        if start == end:\n",
    "            return path\n",
    "        \n",
    "        if start not in self.dict:\n",
    "            return None\n",
    "        \n",
    "        shortest_path = None\n",
    "        for node in self.dict[start]:\n",
    "            if node not in path:\n",
    "                sp = self.shortest_path(node,end,path)\n",
    "                if sp:\n",
    "                    if shortest_path is None or len(sp)<len(shortest_path):\n",
    "                        shortest_path = sp\n",
    "        return shortest_path"
   ]
  },
  {
   "cell_type": "code",
   "execution_count": 38,
   "id": "77c6db50",
   "metadata": {},
   "outputs": [],
   "source": [
    "if __name__ == '__main__':\n",
    "    routes = [(\"Mumbai\",\"Paris\"),\n",
    "            (\"Mumbai\",\"Dubai\"),\n",
    "            (\"Paris\",\"Dubai\"),\n",
    "            (\"Paris\",\"New York\"),\n",
    "            (\"Dubai\",\"New York\"),\n",
    "            (\"New York\",\"Toronto\"),\n",
    "            ]"
   ]
  },
  {
   "cell_type": "code",
   "execution_count": 39,
   "id": "526bb8bc",
   "metadata": {},
   "outputs": [
    {
     "name": "stdout",
     "output_type": "stream",
     "text": [
      "graph_dict: {'Mumbai': ['Paris', 'Dubai'], 'Paris': ['Dubai', 'New York'], 'Dubai': ['New York'], 'New York': ['Toronto']}\n"
     ]
    }
   ],
   "source": [
    "route_graph = Graph(routes)"
   ]
  },
  {
   "cell_type": "code",
   "execution_count": 40,
   "id": "1b3c5d94",
   "metadata": {},
   "outputs": [
    {
     "name": "stdout",
     "output_type": "stream",
     "text": [
      "Paris\n",
      "Dubai\n",
      "New York\n",
      "['Mumbai', 'Paris', 'Dubai', 'New York']\n",
      "['Mumbai', 'Paris', 'Dubai', 'New York']\n",
      "New York\n",
      "['Mumbai', 'Paris', 'New York']\n",
      "['Mumbai', 'Paris', 'Dubai', 'New York']\n",
      "['Mumbai', 'Paris', 'New York']\n",
      "Dubai\n",
      "New York\n",
      "['Mumbai', 'Dubai', 'New York']\n",
      "['Mumbai', 'Dubai', 'New York']\n"
     ]
    },
    {
     "data": {
      "text/plain": [
       "[['Mumbai', 'Paris', 'Dubai', 'New York'],\n",
       " ['Mumbai', 'Paris', 'New York'],\n",
       " ['Mumbai', 'Dubai', 'New York']]"
      ]
     },
     "execution_count": 40,
     "metadata": {},
     "output_type": "execute_result"
    }
   ],
   "source": [
    "route_graph.get_path('Mumbai','New York')"
   ]
  },
  {
   "cell_type": "code",
   "execution_count": 5,
   "id": "be7ca601",
   "metadata": {},
   "outputs": [
    {
     "data": {
      "text/plain": [
       "['Mumbai', 'Paris', 'New York']"
      ]
     },
     "execution_count": 5,
     "metadata": {},
     "output_type": "execute_result"
    }
   ],
   "source": [
    "route_graph.shortest_path('Mumbai','New York')"
   ]
  },
  {
   "cell_type": "code",
   "execution_count": null,
   "id": "621d2574",
   "metadata": {},
   "outputs": [],
   "source": []
  },
  {
   "cell_type": "code",
   "execution_count": null,
   "id": "69c5ba3f",
   "metadata": {},
   "outputs": [],
   "source": []
  }
 ],
 "metadata": {
  "kernelspec": {
   "display_name": "Python 3 (ipykernel)",
   "language": "python",
   "name": "python3"
  },
  "language_info": {
   "codemirror_mode": {
    "name": "ipython",
    "version": 3
   },
   "file_extension": ".py",
   "mimetype": "text/x-python",
   "name": "python",
   "nbconvert_exporter": "python",
   "pygments_lexer": "ipython3",
   "version": "3.9.7"
  }
 },
 "nbformat": 4,
 "nbformat_minor": 5
}
