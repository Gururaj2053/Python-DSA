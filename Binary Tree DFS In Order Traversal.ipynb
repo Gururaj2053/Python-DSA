{
 "cells": [
  {
   "cell_type": "code",
   "execution_count": 23,
   "id": "21a12445",
   "metadata": {},
   "outputs": [],
   "source": [
    "class TreeNode:\n",
    "    def __init__(self, val=0, left=None, right=None):\n",
    "        self.val = val\n",
    "        self.left = left\n",
    "        self.right = right\n",
    "\n",
    "def inorderTraversal(root):\n",
    "    result = []\n",
    "    stack = []\n",
    "\n",
    "    while root or stack:\n",
    "        while root:\n",
    "            stack.append(root)\n",
    "            root = root.left\n",
    "        root = stack.pop()\n",
    "        result.append(root.val)\n",
    "        root = root.right\n",
    "\n",
    "    return result"
   ]
  },
  {
   "cell_type": "code",
   "execution_count": 24,
   "id": "a845a2d8",
   "metadata": {},
   "outputs": [],
   "source": [
    "tree = TreeNode(2,TreeNode(4,TreeNode(8),TreeNode(10)),TreeNode(6,TreeNode(12,TreeNode(16),TreeNode(18)),TreeNode(14)))"
   ]
  },
  {
   "cell_type": "code",
   "execution_count": 25,
   "id": "578d7f8e",
   "metadata": {},
   "outputs": [
    {
     "data": {
      "text/plain": [
       "[8, 4, 10, 2, 16, 12, 18, 6, 14]"
      ]
     },
     "execution_count": 25,
     "metadata": {},
     "output_type": "execute_result"
    }
   ],
   "source": [
    "inorderTraversal(tree)"
   ]
  },
  {
   "cell_type": "code",
   "execution_count": null,
   "id": "a0cac908",
   "metadata": {},
   "outputs": [],
   "source": []
  }
 ],
 "metadata": {
  "kernelspec": {
   "display_name": "Python 3 (ipykernel)",
   "language": "python",
   "name": "python3"
  },
  "language_info": {
   "codemirror_mode": {
    "name": "ipython",
    "version": 3
   },
   "file_extension": ".py",
   "mimetype": "text/x-python",
   "name": "python",
   "nbconvert_exporter": "python",
   "pygments_lexer": "ipython3",
   "version": "3.9.7"
  }
 },
 "nbformat": 4,
 "nbformat_minor": 5
}
