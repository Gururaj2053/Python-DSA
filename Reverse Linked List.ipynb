{
 "cells": [
  {
   "cell_type": "code",
   "execution_count": 101,
   "id": "54dc0066",
   "metadata": {},
   "outputs": [],
   "source": [
    "head = ListNode(1,ListNode(2,ListNode(3,ListNode(4,ListNode(5,None)))))"
   ]
  },
  {
   "cell_type": "code",
   "execution_count": 102,
   "id": "17c942f9",
   "metadata": {},
   "outputs": [],
   "source": [
    "# Definition for singly-linked list.\n",
    "class ListNode:\n",
    "    def __init__(self, val=0, next=None):\n",
    "        self.val = val\n",
    "        self.next = next\n",
    "class Solution:\n",
    "    def reverseList(self, head) ->[ListNode]:\n",
    "        next1 = None\n",
    "        while head:\n",
    "            temp = head.next\n",
    "            head.next = next1\n",
    "            next1 = head\n",
    "            head = temp\n",
    "        return next1"
   ]
  },
  {
   "cell_type": "markdown",
   "id": "383f7a0a",
   "metadata": {},
   "source": [
    "head = ListNode(1,ListNode(2,ListNode(3,ListNode(4,ListNode(5,None)))))"
   ]
  },
  {
   "cell_type": "code",
   "execution_count": 103,
   "id": "c393318f",
   "metadata": {},
   "outputs": [],
   "source": [
    "test  = Solution()"
   ]
  },
  {
   "cell_type": "code",
   "execution_count": 104,
   "id": "6c0ac623",
   "metadata": {},
   "outputs": [],
   "source": [
    "ans = test.reverseList(head)"
   ]
  },
  {
   "cell_type": "code",
   "execution_count": 105,
   "id": "b67c05a7",
   "metadata": {},
   "outputs": [
    {
     "name": "stdout",
     "output_type": "stream",
     "text": [
      "5\n",
      "4\n",
      "3\n",
      "2\n",
      "1\n"
     ]
    }
   ],
   "source": [
    "while ans:\n",
    "    print(ans.val)\n",
    "    ans = ans.next"
   ]
  },
  {
   "cell_type": "code",
   "execution_count": null,
   "id": "bf7951a6",
   "metadata": {},
   "outputs": [],
   "source": []
  },
  {
   "cell_type": "code",
   "execution_count": null,
   "id": "8a0c7c9c",
   "metadata": {},
   "outputs": [],
   "source": []
  },
  {
   "cell_type": "markdown",
   "id": "93f51100",
   "metadata": {},
   "source": [
    "head1 = ListNode(1,ListNode(2,ListNode(3,ListNode(4,ListNode(5,None)))))"
   ]
  },
  {
   "cell_type": "markdown",
   "id": "00da8eb6",
   "metadata": {},
   "source": [
    "head = [head1,head2,head3,head4,head5]"
   ]
  },
  {
   "cell_type": "code",
   "execution_count": null,
   "id": "06149592",
   "metadata": {},
   "outputs": [],
   "source": []
  },
  {
   "cell_type": "code",
   "execution_count": null,
   "id": "048fce46",
   "metadata": {},
   "outputs": [],
   "source": []
  }
 ],
 "metadata": {
  "kernelspec": {
   "display_name": "Python 3 (ipykernel)",
   "language": "python",
   "name": "python3"
  },
  "language_info": {
   "codemirror_mode": {
    "name": "ipython",
    "version": 3
   },
   "file_extension": ".py",
   "mimetype": "text/x-python",
   "name": "python",
   "nbconvert_exporter": "python",
   "pygments_lexer": "ipython3",
   "version": "3.9.7"
  }
 },
 "nbformat": 4,
 "nbformat_minor": 5
}
