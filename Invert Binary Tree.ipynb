{
 "cells": [
  {
   "cell_type": "markdown",
   "id": "96d4073f",
   "metadata": {},
   "source": [
    "# Solution 1"
   ]
  },
  {
   "cell_type": "code",
   "execution_count": 123,
   "id": "15c2cc8a",
   "metadata": {},
   "outputs": [],
   "source": [
    "#Definition for a binary tree node.\n",
    "class TreeNode:\n",
    "    def __init__(self, val=0, left=None, right=None):\n",
    "        self.val = val\n",
    "        self.left = left\n",
    "        self.right = right\n",
    "class Solution:\n",
    "    def invertTree(self, root) ->[TreeNode]:\n",
    "        if not root:\n",
    "            return\n",
    "        if root.left:\n",
    "            self.invertTree(root.left)\n",
    "        if root.right:\n",
    "            self.invertTree(root.right)\n",
    "        root.left,root.right = root.right,root.left\n",
    "        return root \n",
    "    def print_tree1(self,root,level=0,prefix='root'):\n",
    "        if root is not None:\n",
    "            print(' '*level*3+prefix+str(root.val))\n",
    "            self.print_tree1(root.left,level+1,prefix = '--L:')\n",
    "            self.print_tree1(root.right,level+1,prefix = '--R:')"
   ]
  },
  {
   "cell_type": "code",
   "execution_count": 128,
   "id": "318eee54",
   "metadata": {},
   "outputs": [],
   "source": [
    "root = TreeNode(4,TreeNode(2,TreeNode(1),TreeNode(3)),TreeNode(7,TreeNode(6),TreeNode(9)))"
   ]
  },
  {
   "cell_type": "code",
   "execution_count": 125,
   "id": "c111b220",
   "metadata": {},
   "outputs": [],
   "source": [
    "Sol = Solution()"
   ]
  },
  {
   "cell_type": "code",
   "execution_count": 126,
   "id": "80e7418d",
   "metadata": {},
   "outputs": [],
   "source": [
    "invert  = Sol.invertTree(root)"
   ]
  },
  {
   "cell_type": "code",
   "execution_count": 129,
   "id": "eab0cb07",
   "metadata": {},
   "outputs": [
    {
     "name": "stdout",
     "output_type": "stream",
     "text": [
      "root4\n",
      "   --L:2\n",
      "      --L:1\n",
      "      --R:3\n",
      "   --R:7\n",
      "      --L:6\n",
      "      --R:9\n"
     ]
    }
   ],
   "source": [
    "Sol.print_tree1(root)"
   ]
  },
  {
   "cell_type": "markdown",
   "id": "345aa2c5",
   "metadata": {},
   "source": [
    "# Solution 2"
   ]
  },
  {
   "cell_type": "code",
   "execution_count": 136,
   "id": "7f299b03",
   "metadata": {},
   "outputs": [],
   "source": [
    "class Solution:\n",
    "    def invertTree(self, root:[TreeNode]) -> [TreeNode]:\n",
    "        if not root:\n",
    "            return None\n",
    "        root.left , root.right = root.right, root.left\n",
    "        self.invertTree(root.left) \n",
    "        self.invertTree(root.right)\n",
    "        return root\n",
    "    def print_tree1(self,root,level=0,prefix='root'):\n",
    "        if root is not None:\n",
    "            print(' '*level*3+prefix+str(root.val))\n",
    "            self.print_tree1(root.left,level+1,prefix = '--L:')\n",
    "            self.print_tree1(root.right,level+1,prefix = '--R:')"
   ]
  },
  {
   "cell_type": "code",
   "execution_count": 137,
   "id": "bd0ce943",
   "metadata": {},
   "outputs": [],
   "source": [
    "root = TreeNode(4,TreeNode(2,TreeNode(1),TreeNode(3)),TreeNode(7,TreeNode(6),TreeNode(9)))"
   ]
  },
  {
   "cell_type": "code",
   "execution_count": 138,
   "id": "65150087",
   "metadata": {},
   "outputs": [],
   "source": [
    "Sol = Solution()"
   ]
  },
  {
   "cell_type": "code",
   "execution_count": 139,
   "id": "7e9d9a47",
   "metadata": {},
   "outputs": [],
   "source": [
    "invert  = Sol.invertTree(root)"
   ]
  },
  {
   "cell_type": "code",
   "execution_count": 140,
   "id": "a310cbb5",
   "metadata": {},
   "outputs": [
    {
     "name": "stdout",
     "output_type": "stream",
     "text": [
      "root4\n",
      "   --L:7\n",
      "      --L:9\n",
      "      --R:6\n",
      "   --R:2\n",
      "      --L:3\n",
      "      --R:1\n"
     ]
    }
   ],
   "source": [
    "Sol.print_tree1(root)"
   ]
  },
  {
   "cell_type": "code",
   "execution_count": null,
   "id": "a74b5649",
   "metadata": {},
   "outputs": [],
   "source": []
  },
  {
   "cell_type": "code",
   "execution_count": null,
   "id": "c227303a",
   "metadata": {},
   "outputs": [],
   "source": []
  }
 ],
 "metadata": {
  "kernelspec": {
   "display_name": "Python 3 (ipykernel)",
   "language": "python",
   "name": "python3"
  },
  "language_info": {
   "codemirror_mode": {
    "name": "ipython",
    "version": 3
   },
   "file_extension": ".py",
   "mimetype": "text/x-python",
   "name": "python",
   "nbconvert_exporter": "python",
   "pygments_lexer": "ipython3",
   "version": "3.9.7"
  }
 },
 "nbformat": 4,
 "nbformat_minor": 5
}
