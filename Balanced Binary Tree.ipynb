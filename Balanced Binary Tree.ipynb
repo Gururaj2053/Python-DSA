{
 "cells": [
  {
   "cell_type": "code",
   "execution_count": 1,
   "id": "4aa031dc",
   "metadata": {},
   "outputs": [],
   "source": [
    "class TreeNode:\n",
    "    def __init__(self, val=0, left=None, right=None):\n",
    "        self.val = val\n",
    "        self.left = left\n",
    "        self.right = right\n",
    "class Solution:\n",
    "    def isBalanced(self, root):\n",
    "        return (self.Height(root) >= 0)\n",
    "    def Height(self, root):\n",
    "        if root is None:  return 0\n",
    "        leftheight = self.Height(root.left)\n",
    "        rightheight = self.Height(root.right)\n",
    "        if leftheight < 0 or rightheight < 0 or abs(leftheight - rightheight) > 1:  return -1\n",
    "        return max(leftheight, rightheight) + 1"
   ]
  },
  {
   "cell_type": "code",
   "execution_count": 2,
   "id": "39a59d0c",
   "metadata": {},
   "outputs": [],
   "source": [
    "tree = TreeNode(2,TreeNode(4,TreeNode(8),TreeNode(10)),TreeNode(6,TreeNode(12,TreeNode(16),TreeNode(18)),TreeNode(14)))"
   ]
  },
  {
   "cell_type": "code",
   "execution_count": 3,
   "id": "280186f6",
   "metadata": {},
   "outputs": [],
   "source": [
    "def print_tree(root,level=0,prefix = 'Root'):\n",
    "    if root==None:\n",
    "        return\n",
    "    print(' '*level*3+prefix+str(root.val))\n",
    "    if root.left:\n",
    "        print_tree(root.left,level+1, prefix = '--L:')\n",
    "    if root.right:\n",
    "        print_tree(root.right,level+1, prefix = '--R:')"
   ]
  },
  {
   "cell_type": "code",
   "execution_count": 4,
   "id": "9bde1f6a",
   "metadata": {},
   "outputs": [
    {
     "name": "stdout",
     "output_type": "stream",
     "text": [
      "Root2\n",
      "   --L:4\n",
      "      --L:8\n",
      "      --R:10\n",
      "   --R:6\n",
      "      --L:12\n",
      "         --L:16\n",
      "         --R:18\n",
      "      --R:14\n"
     ]
    }
   ],
   "source": [
    "print_tree(tree)"
   ]
  },
  {
   "cell_type": "code",
   "execution_count": 5,
   "id": "6af4a378",
   "metadata": {},
   "outputs": [],
   "source": [
    "isbalance = Solution()"
   ]
  },
  {
   "cell_type": "code",
   "execution_count": 6,
   "id": "ac8e1fba",
   "metadata": {},
   "outputs": [
    {
     "data": {
      "text/plain": [
       "True"
      ]
     },
     "execution_count": 6,
     "metadata": {},
     "output_type": "execute_result"
    }
   ],
   "source": [
    "isbalance.isBalanced(tree)"
   ]
  },
  {
   "cell_type": "code",
   "execution_count": null,
   "id": "283619ea",
   "metadata": {},
   "outputs": [],
   "source": []
  }
 ],
 "metadata": {
  "kernelspec": {
   "display_name": "Python 3 (ipykernel)",
   "language": "python",
   "name": "python3"
  },
  "language_info": {
   "codemirror_mode": {
    "name": "ipython",
    "version": 3
   },
   "file_extension": ".py",
   "mimetype": "text/x-python",
   "name": "python",
   "nbconvert_exporter": "python",
   "pygments_lexer": "ipython3",
   "version": "3.9.7"
  }
 },
 "nbformat": 4,
 "nbformat_minor": 5
}
