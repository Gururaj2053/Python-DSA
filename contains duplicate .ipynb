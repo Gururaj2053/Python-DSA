{
 "cells": [
  {
   "cell_type": "markdown",
   "id": "f8be487b",
   "metadata": {},
   "source": [
    "## Sloution 1"
   ]
  },
  {
   "cell_type": "code",
   "execution_count": 10,
   "id": "f3bbae90",
   "metadata": {},
   "outputs": [],
   "source": [
    "nums = [2,14,18,22,22]"
   ]
  },
  {
   "cell_type": "code",
   "execution_count": 11,
   "id": "8993287b",
   "metadata": {},
   "outputs": [],
   "source": [
    "def contains_duplicate(nums):\n",
    "    for i in range(0,len(nums)):\n",
    "        for j in range(i+1,len(nums)):\n",
    "            if nums[i] == nums[j]:\n",
    "                print('True')"
   ]
  },
  {
   "cell_type": "code",
   "execution_count": 12,
   "id": "46bc45be",
   "metadata": {},
   "outputs": [],
   "source": [
    "hashset = set()"
   ]
  },
  {
   "cell_type": "markdown",
   "id": "3f2ff860",
   "metadata": {},
   "source": [
    "## Solution 2"
   ]
  },
  {
   "cell_type": "code",
   "execution_count": 17,
   "id": "31226100",
   "metadata": {},
   "outputs": [],
   "source": [
    "def containsDuplicate(nums):\n",
    "        hashset = set()\n",
    "        for index in nums:\n",
    "            if index in hashset:\n",
    "                return True\n",
    "            else:\n",
    "                hashset.add(index)"
   ]
  },
  {
   "cell_type": "code",
   "execution_count": 18,
   "id": "ca784aa7",
   "metadata": {},
   "outputs": [
    {
     "data": {
      "text/plain": [
       "True"
      ]
     },
     "execution_count": 18,
     "metadata": {},
     "output_type": "execute_result"
    }
   ],
   "source": [
    "containsDuplicate(nums)"
   ]
  }
 ],
 "metadata": {
  "kernelspec": {
   "display_name": "Python 3 (ipykernel)",
   "language": "python",
   "name": "python3"
  },
  "language_info": {
   "codemirror_mode": {
    "name": "ipython",
    "version": 3
   },
   "file_extension": ".py",
   "mimetype": "text/x-python",
   "name": "python",
   "nbconvert_exporter": "python",
   "pygments_lexer": "ipython3",
   "version": "3.9.7"
  }
 },
 "nbformat": 4,
 "nbformat_minor": 5
}
