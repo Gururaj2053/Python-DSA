{
 "cells": [
  {
   "cell_type": "markdown",
   "id": "f4071834",
   "metadata": {},
   "source": [
    "# Solution 1"
   ]
  },
  {
   "cell_type": "code",
   "execution_count": 36,
   "id": "18a9ddc9",
   "metadata": {},
   "outputs": [],
   "source": [
    "#Definition for a binary tree node.\n",
    "class TreeNode:\n",
    "    def __init__(self, val=0, left=None, right=None):\n",
    "        self.val = val\n",
    "        self.left = left\n",
    "        self.right = right"
   ]
  },
  {
   "cell_type": "code",
   "execution_count": 57,
   "id": "b9b3b069",
   "metadata": {},
   "outputs": [],
   "source": [
    "class Solution:\n",
    "    def levelOrder(self, root: TreeNode) -> list[list[int]]:\n",
    "        if not root:\n",
    "            return []\n",
    "        \n",
    "        result = []\n",
    "        queue = [root]\n",
    "        \n",
    "        while queue:\n",
    "            level_values = []\n",
    "            level_size = len(queue)\n",
    "            \n",
    "            for i in range(level_size):\n",
    "                node = queue.pop(0)\n",
    "                level_values.append(node.val)\n",
    "                \n",
    "                if node.left:\n",
    "                    queue.append(node.left)\n",
    "                if node.right:\n",
    "                    queue.append(node.right)\n",
    "            \n",
    "            result.append(level_values)\n",
    "        \n",
    "        return result\n"
   ]
  },
  {
   "cell_type": "code",
   "execution_count": 58,
   "id": "2902b03b",
   "metadata": {},
   "outputs": [],
   "source": [
    "tree = TreeNode(1,TreeNode(2,TreeNode(4),None),TreeNode(3,None,TreeNode(5)))"
   ]
  },
  {
   "cell_type": "code",
   "execution_count": 59,
   "id": "f4501f6a",
   "metadata": {},
   "outputs": [
    {
     "data": {
      "text/plain": [
       "[[1], [2, 3], [4, 5]]"
      ]
     },
     "execution_count": 59,
     "metadata": {},
     "output_type": "execute_result"
    }
   ],
   "source": [
    "ans1 = Solution()\n",
    "ans1.levelOrder(tree)"
   ]
  },
  {
   "cell_type": "markdown",
   "id": "01d47668",
   "metadata": {},
   "source": [
    "# Solution 2"
   ]
  },
  {
   "cell_type": "code",
   "execution_count": 62,
   "id": "a2f7874c",
   "metadata": {},
   "outputs": [],
   "source": [
    "from collections import defaultdict"
   ]
  },
  {
   "cell_type": "code",
   "execution_count": 80,
   "id": "8562f3fe",
   "metadata": {},
   "outputs": [],
   "source": [
    "#Definition for a binary tree node.\n",
    "class TreeNode:\n",
    "    def __init__(self, val=0, left=None, right=None):\n",
    "        self.val = val\n",
    "        self.left = left\n",
    "        self.right = right"
   ]
  },
  {
   "cell_type": "code",
   "execution_count": 69,
   "id": "79a5836d",
   "metadata": {},
   "outputs": [],
   "source": [
    "class Solution:\n",
    "    def levelOrder(self, root:[TreeNode]) ->list[list[int]]:\n",
    "        ans = defaultdict(list)\n",
    "\n",
    "        def traversal(node, lev):\n",
    "            if node is None: return\n",
    "\n",
    "            nonlocal ans\n",
    "            traversal(node.left, lev + 1)\n",
    "            ans[lev].append(node.val)\n",
    "            traversal(node.right, lev + 1)\n",
    "\n",
    "        traversal(root, 0)\n",
    "        return [v for k, v in sorted(ans.items())]"
   ]
  },
  {
   "cell_type": "markdown",
   "id": "bccc0a61",
   "metadata": {},
   "source": [
    "#                                                     OR"
   ]
  },
  {
   "cell_type": "code",
   "execution_count": 82,
   "id": "2a399581",
   "metadata": {},
   "outputs": [],
   "source": [
    "class Solution:\n",
    "    def levelOrder(self, root:[TreeNode]) ->list[list[int]]:\n",
    "        ans = {}\n",
    "\n",
    "        def traversal(node, lev):\n",
    "            if node is None: return\n",
    "\n",
    "            nonlocal ans\n",
    "            if lev not in ans:\n",
    "                ans[lev] = []\n",
    "            traversal(node.left, lev + 1)\n",
    "            ans[lev].append(node.val)\n",
    "            traversal(node.right, lev + 1)\n",
    "\n",
    "        traversal(root, 0)\n",
    "        return [v for k, v in sorted(ans.items())]"
   ]
  },
  {
   "cell_type": "code",
   "execution_count": 89,
   "id": "9d76a100",
   "metadata": {},
   "outputs": [],
   "source": [
    "tree = TreeNode(1,TreeNode(2,TreeNode(4),None),TreeNode(3,None,TreeNode(5)))"
   ]
  },
  {
   "cell_type": "code",
   "execution_count": 90,
   "id": "51728c32",
   "metadata": {},
   "outputs": [
    {
     "data": {
      "text/plain": [
       "[[1], [2, 3], [4, 5]]"
      ]
     },
     "execution_count": 90,
     "metadata": {},
     "output_type": "execute_result"
    }
   ],
   "source": [
    "ans1 = Solution()\n",
    "ans1.levelOrder(tree)"
   ]
  },
  {
   "cell_type": "code",
   "execution_count": null,
   "id": "97ffe941",
   "metadata": {},
   "outputs": [],
   "source": []
  }
 ],
 "metadata": {
  "kernelspec": {
   "display_name": "Python 3 (ipykernel)",
   "language": "python",
   "name": "python3"
  },
  "language_info": {
   "codemirror_mode": {
    "name": "ipython",
    "version": 3
   },
   "file_extension": ".py",
   "mimetype": "text/x-python",
   "name": "python",
   "nbconvert_exporter": "python",
   "pygments_lexer": "ipython3",
   "version": "3.9.7"
  }
 },
 "nbformat": 4,
 "nbformat_minor": 5
}
