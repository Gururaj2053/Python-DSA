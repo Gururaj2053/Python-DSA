{
 "cells": [
  {
   "cell_type": "code",
   "execution_count": 1,
   "id": "0ddfe5ab",
   "metadata": {},
   "outputs": [],
   "source": [
    "# Definition for a binary tree node.\n",
    "class TreeNode:\n",
    "    def __init__(self, val=0, left=None, right=None):\n",
    "        self.val = val\n",
    "        self.left = left\n",
    "        self.right = right"
   ]
  },
  {
   "cell_type": "code",
   "execution_count": 11,
   "id": "47a35165",
   "metadata": {},
   "outputs": [],
   "source": [
    "import sys\n",
    "class Solution:\n",
    "    def __init__(self):\n",
    "        self.count = 0\n",
    "    def goodNodes(self, root,large=-sys.maxsize-1):\n",
    "        if not root :\n",
    "            return\n",
    "        print(root.val,large)\n",
    "        if (root.val>=large): \n",
    "                self.count += 1\n",
    "                large = root.val \n",
    "        self.goodNodes(root.left,large)\n",
    "        self.goodNodes(root.right,large)\n",
    "        return self.count"
   ]
  },
  {
   "cell_type": "code",
   "execution_count": 12,
   "id": "90d0ffaa",
   "metadata": {},
   "outputs": [],
   "source": [
    "tree = TreeNode(3,TreeNode(1,TreeNode(3)),TreeNode(4,TreeNode(1),TreeNode(5)))"
   ]
  },
  {
   "cell_type": "code",
   "execution_count": 13,
   "id": "1b9b79d5",
   "metadata": {},
   "outputs": [],
   "source": [
    "#tree = TreeNode(-1,TreeNode(5,TreeNode(4),TreeNode(4,TreeNode(-4,TreeNode(0,TreeNode(3))))),TreeNode(-2,TreeNode(2,TreeNode(-2,TreeNode(-1)),TreeNode(3,TreeNode(-3)))))"
   ]
  },
  {
   "cell_type": "code",
   "execution_count": 14,
   "id": "15b262c7",
   "metadata": {},
   "outputs": [
    {
     "name": "stdout",
     "output_type": "stream",
     "text": [
      "3 -9223372036854775808\n",
      "1 3\n",
      "3 3\n",
      "4 3\n",
      "1 4\n",
      "5 4\n"
     ]
    },
    {
     "data": {
      "text/plain": [
       "4"
      ]
     },
     "execution_count": 14,
     "metadata": {},
     "output_type": "execute_result"
    }
   ],
   "source": [
    "ans = Solution()\n",
    "ans.goodNodes(tree)"
   ]
  },
  {
   "cell_type": "code",
   "execution_count": null,
   "id": "a5bccb13",
   "metadata": {},
   "outputs": [],
   "source": []
  },
  {
   "cell_type": "code",
   "execution_count": null,
   "id": "dc10408f",
   "metadata": {},
   "outputs": [],
   "source": []
  }
 ],
 "metadata": {
  "kernelspec": {
   "display_name": "Python 3 (ipykernel)",
   "language": "python",
   "name": "python3"
  },
  "language_info": {
   "codemirror_mode": {
    "name": "ipython",
    "version": 3
   },
   "file_extension": ".py",
   "mimetype": "text/x-python",
   "name": "python",
   "nbconvert_exporter": "python",
   "pygments_lexer": "ipython3",
   "version": "3.9.7"
  }
 },
 "nbformat": 4,
 "nbformat_minor": 5
}
