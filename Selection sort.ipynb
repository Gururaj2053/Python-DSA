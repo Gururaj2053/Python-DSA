{
 "cells": [
  {
   "cell_type": "markdown",
   "id": "05a97293",
   "metadata": {},
   "source": [
    "## Time complexity - O(n^2)\n",
    "## Space complexity - O(1)"
   ]
  },
  {
   "cell_type": "code",
   "execution_count": 11,
   "id": "c1b73f1b",
   "metadata": {},
   "outputs": [],
   "source": [
    "nums = [1,5,6,7,9,3]"
   ]
  },
  {
   "cell_type": "code",
   "execution_count": 12,
   "id": "e9ad330d",
   "metadata": {},
   "outputs": [],
   "source": [
    "def sort(nums):\n",
    "    for i in range(0,len(nums)-1):\n",
    "        min_pos = i\n",
    "        for j in range(i,len(nums)):\n",
    "            if nums[j]<nums[i]:\n",
    "                min_pos = j\n",
    "        nums[i],nums[min_pos]=nums[min_pos],nums[i]\n",
    "\n",
    "    return(nums)      "
   ]
  },
  {
   "cell_type": "code",
   "execution_count": 13,
   "id": "8e82d1fc",
   "metadata": {},
   "outputs": [
    {
     "data": {
      "text/plain": [
       "[1, 3, 5, 6, 7, 9]"
      ]
     },
     "execution_count": 13,
     "metadata": {},
     "output_type": "execute_result"
    }
   ],
   "source": [
    "sort(nums)"
   ]
  }
 ],
 "metadata": {
  "kernelspec": {
   "display_name": "Python 3 (ipykernel)",
   "language": "python",
   "name": "python3"
  },
  "language_info": {
   "codemirror_mode": {
    "name": "ipython",
    "version": 3
   },
   "file_extension": ".py",
   "mimetype": "text/x-python",
   "name": "python",
   "nbconvert_exporter": "python",
   "pygments_lexer": "ipython3",
   "version": "3.9.7"
  }
 },
 "nbformat": 4,
 "nbformat_minor": 5
}
